{
 "metadata": {
  "language_info": {
   "codemirror_mode": {
    "name": "ipython",
    "version": 3
   },
   "file_extension": ".py",
   "mimetype": "text/x-python",
   "name": "python",
   "nbconvert_exporter": "python",
   "pygments_lexer": "ipython3",
   "version": "3.9.1-final"
  },
  "orig_nbformat": 2,
  "kernelspec": {
   "name": "python3",
   "display_name": "Python 3",
   "language": "python"
  }
 },
 "nbformat": 4,
 "nbformat_minor": 2,
 "cells": [
  {
   "cell_type": "code",
   "execution_count": 1,
   "metadata": {},
   "outputs": [],
   "source": [
    "import os\n",
    "import pandas as pd\n",
    "import numpy as np\n",
    "from datetime import datetime"
   ]
  },
  {
   "cell_type": "code",
   "execution_count": 2,
   "metadata": {},
   "outputs": [],
   "source": [
    "os.chdir('C:\\Repos\\DS-Apis-Globo')"
   ]
  },
  {
   "cell_type": "code",
   "execution_count": 3,
   "metadata": {},
   "outputs": [],
   "source": [
    "file_inv = 'tvaberta_inventory_availability.csv(1).csv'\n",
    "dateparser_inv = lambda x: datetime.strptime(x, '%d/%m/%Y')\n",
    "sep_inv = ';'\n",
    "parsedates_inv = ['date']"
   ]
  },
  {
   "cell_type": "code",
   "execution_count": 4,
   "metadata": {},
   "outputs": [
    {
     "output_type": "execute_result",
     "data": {
      "text/plain": [
       "  signal program_code       date  available_time\n",
       "0    SP1         HUCK 2020-07-25              10\n",
       "1    SP1         HUCK 2020-08-01             300\n",
       "2    SP1         HUCK 2020-08-08             118\n",
       "3    SP1         HUCK 2020-08-15             106\n",
       "4    SP1         HUCK 2020-08-22               6"
      ],
      "text/html": "<div>\n<style scoped>\n    .dataframe tbody tr th:only-of-type {\n        vertical-align: middle;\n    }\n\n    .dataframe tbody tr th {\n        vertical-align: top;\n    }\n\n    .dataframe thead th {\n        text-align: right;\n    }\n</style>\n<table border=\"1\" class=\"dataframe\">\n  <thead>\n    <tr style=\"text-align: right;\">\n      <th></th>\n      <th>signal</th>\n      <th>program_code</th>\n      <th>date</th>\n      <th>available_time</th>\n    </tr>\n  </thead>\n  <tbody>\n    <tr>\n      <th>0</th>\n      <td>SP1</td>\n      <td>HUCK</td>\n      <td>2020-07-25</td>\n      <td>10</td>\n    </tr>\n    <tr>\n      <th>1</th>\n      <td>SP1</td>\n      <td>HUCK</td>\n      <td>2020-08-01</td>\n      <td>300</td>\n    </tr>\n    <tr>\n      <th>2</th>\n      <td>SP1</td>\n      <td>HUCK</td>\n      <td>2020-08-08</td>\n      <td>118</td>\n    </tr>\n    <tr>\n      <th>3</th>\n      <td>SP1</td>\n      <td>HUCK</td>\n      <td>2020-08-15</td>\n      <td>106</td>\n    </tr>\n    <tr>\n      <th>4</th>\n      <td>SP1</td>\n      <td>HUCK</td>\n      <td>2020-08-22</td>\n      <td>6</td>\n    </tr>\n  </tbody>\n</table>\n</div>"
     },
     "metadata": {},
     "execution_count": 4
    }
   ],
   "source": [
    "df_inv = pd.read_csv( file_inv,\n",
    "                        sep = sep_inv,\n",
    "                        parse_dates = parsedates_inv, \n",
    "                        date_parser = dateparser_inv)\n",
    "df_inv.head()"
   ]
  },
  {
   "cell_type": "code",
   "execution_count": 5,
   "metadata": {},
   "outputs": [
    {
     "output_type": "stream",
     "name": "stdout",
     "text": [
      "<class 'pandas.core.frame.DataFrame'>\nRangeIndex: 2292 entries, 0 to 2291\nData columns (total 4 columns):\n #   Column          Non-Null Count  Dtype         \n---  ------          --------------  -----         \n 0   signal          2292 non-null   object        \n 1   program_code    2292 non-null   object        \n 2   date            2292 non-null   datetime64[ns]\n 3   available_time  2292 non-null   int64         \ndtypes: datetime64[ns](1), int64(1), object(2)\nmemory usage: 71.8+ KB\n"
     ]
    }
   ],
   "source": [
    "df_inv.info()"
   ]
  },
  {
   "cell_type": "code",
   "execution_count": 6,
   "metadata": {},
   "outputs": [],
   "source": [
    "file_pro = 'tvaberta_program_audience(1).csv'\n",
    "dateparser_pro = lambda x: datetime.strptime(x, \"%Y-%m-%dT%H:%M:%S.%fZ\")\n",
    "sep_pro = ','\n",
    "parsedates_pro = ['program_start_time']\n",
    "indexcol_pro = 'program_start_time'"
   ]
  },
  {
   "cell_type": "code",
   "execution_count": 7,
   "metadata": {},
   "outputs": [
    {
     "output_type": "execute_result",
     "data": {
      "text/plain": [
       "  signal program_code exhibition_date  program_start_time  average_audience\n",
       "0    SP1         PTV1      2020-06-05 2020-06-05 15:01:00      9.338920e+05\n",
       "1    SP1         VALE      2020-06-24 2020-06-24 19:36:00      1.835375e+06\n",
       "2     BH         PTV1      2020-05-23 2020-05-23 15:01:00      2.874812e+05\n",
       "3     DF         AUTO      2020-05-03 2020-05-03 12:14:00      8.649481e+04\n",
       "4     DF         FGGE      2020-05-03 2020-05-03 18:46:00      1.521656e+05"
      ],
      "text/html": "<div>\n<style scoped>\n    .dataframe tbody tr th:only-of-type {\n        vertical-align: middle;\n    }\n\n    .dataframe tbody tr th {\n        vertical-align: top;\n    }\n\n    .dataframe thead th {\n        text-align: right;\n    }\n</style>\n<table border=\"1\" class=\"dataframe\">\n  <thead>\n    <tr style=\"text-align: right;\">\n      <th></th>\n      <th>signal</th>\n      <th>program_code</th>\n      <th>exhibition_date</th>\n      <th>program_start_time</th>\n      <th>average_audience</th>\n    </tr>\n  </thead>\n  <tbody>\n    <tr>\n      <th>0</th>\n      <td>SP1</td>\n      <td>PTV1</td>\n      <td>2020-06-05</td>\n      <td>2020-06-05 15:01:00</td>\n      <td>9.338920e+05</td>\n    </tr>\n    <tr>\n      <th>1</th>\n      <td>SP1</td>\n      <td>VALE</td>\n      <td>2020-06-24</td>\n      <td>2020-06-24 19:36:00</td>\n      <td>1.835375e+06</td>\n    </tr>\n    <tr>\n      <th>2</th>\n      <td>BH</td>\n      <td>PTV1</td>\n      <td>2020-05-23</td>\n      <td>2020-05-23 15:01:00</td>\n      <td>2.874812e+05</td>\n    </tr>\n    <tr>\n      <th>3</th>\n      <td>DF</td>\n      <td>AUTO</td>\n      <td>2020-05-03</td>\n      <td>2020-05-03 12:14:00</td>\n      <td>8.649481e+04</td>\n    </tr>\n    <tr>\n      <th>4</th>\n      <td>DF</td>\n      <td>FGGE</td>\n      <td>2020-05-03</td>\n      <td>2020-05-03 18:46:00</td>\n      <td>1.521656e+05</td>\n    </tr>\n  </tbody>\n</table>\n</div>"
     },
     "metadata": {},
     "execution_count": 7
    }
   ],
   "source": [
    "df_pro = pd.read_csv( file_pro,\n",
    "                        sep = sep_pro,\n",
    "                        parse_dates = parsedates_pro, \n",
    "                        date_parser = dateparser_pro)\n",
    "df_pro.head()"
   ]
  },
  {
   "cell_type": "code",
   "execution_count": 8,
   "metadata": {},
   "outputs": [],
   "source": [
    "df_pro['exhibition_date'] =  pd.to_datetime(df_pro['exhibition_date'], format='%Y-%m-%d')"
   ]
  },
  {
   "cell_type": "code",
   "execution_count": 69,
   "metadata": {},
   "outputs": [
    {
     "output_type": "execute_result",
     "data": {
      "text/plain": [
       "     signal program_code       date  program_start_time  average_audience  \\\n",
       "0       SP1         PTV1 2020-06-05 2020-06-05 15:01:00      9.338920e+05   \n",
       "1       SP1         VALE 2020-06-24 2020-06-24 19:36:00      1.835375e+06   \n",
       "2        BH         PTV1 2020-05-23 2020-05-23 15:01:00      2.874812e+05   \n",
       "3        DF         AUTO 2020-05-03 2020-05-03 12:14:00      8.649481e+04   \n",
       "4        DF         FGGE 2020-05-03 2020-05-03 18:46:00      1.521656e+05   \n",
       "...     ...          ...        ...                 ...               ...   \n",
       "8982    NAC         N18H 2020-05-04 2020-05-04 21:31:00      2.093098e+07   \n",
       "8983    NAC         JHOJ 2020-05-13 2020-05-13 16:25:00      1.331286e+07   \n",
       "8984    NAC         SHOV 2020-06-07 2020-06-07 15:30:00      8.610939e+06   \n",
       "8985    NAC         SHOV 2020-05-17 2020-05-17 15:30:00      1.056899e+07   \n",
       "8986    NAC         COR3 2020-05-15 2020-05-15 07:40:00      2.958759e+06   \n",
       "\n",
       "      weekday  predicted_audience  available_time  \n",
       "0           4        9.338920e+05               0  \n",
       "1           2        1.835375e+06               0  \n",
       "2           5        2.874812e+05               0  \n",
       "3           6        8.649481e+04               0  \n",
       "4           6        1.521656e+05               0  \n",
       "...       ...                 ...             ...  \n",
       "8982        0        2.093098e+07               0  \n",
       "8983        2        1.331286e+07               0  \n",
       "8984        6        8.610939e+06               0  \n",
       "8985        6        1.056899e+07               0  \n",
       "8986        4        2.958759e+06               0  \n",
       "\n",
       "[8987 rows x 8 columns]"
      ],
      "text/html": "<div>\n<style scoped>\n    .dataframe tbody tr th:only-of-type {\n        vertical-align: middle;\n    }\n\n    .dataframe tbody tr th {\n        vertical-align: top;\n    }\n\n    .dataframe thead th {\n        text-align: right;\n    }\n</style>\n<table border=\"1\" class=\"dataframe\">\n  <thead>\n    <tr style=\"text-align: right;\">\n      <th></th>\n      <th>signal</th>\n      <th>program_code</th>\n      <th>date</th>\n      <th>program_start_time</th>\n      <th>average_audience</th>\n      <th>weekday</th>\n      <th>predicted_audience</th>\n      <th>available_time</th>\n    </tr>\n  </thead>\n  <tbody>\n    <tr>\n      <th>0</th>\n      <td>SP1</td>\n      <td>PTV1</td>\n      <td>2020-06-05</td>\n      <td>2020-06-05 15:01:00</td>\n      <td>9.338920e+05</td>\n      <td>4</td>\n      <td>9.338920e+05</td>\n      <td>0</td>\n    </tr>\n    <tr>\n      <th>1</th>\n      <td>SP1</td>\n      <td>VALE</td>\n      <td>2020-06-24</td>\n      <td>2020-06-24 19:36:00</td>\n      <td>1.835375e+06</td>\n      <td>2</td>\n      <td>1.835375e+06</td>\n      <td>0</td>\n    </tr>\n    <tr>\n      <th>2</th>\n      <td>BH</td>\n      <td>PTV1</td>\n      <td>2020-05-23</td>\n      <td>2020-05-23 15:01:00</td>\n      <td>2.874812e+05</td>\n      <td>5</td>\n      <td>2.874812e+05</td>\n      <td>0</td>\n    </tr>\n    <tr>\n      <th>3</th>\n      <td>DF</td>\n      <td>AUTO</td>\n      <td>2020-05-03</td>\n      <td>2020-05-03 12:14:00</td>\n      <td>8.649481e+04</td>\n      <td>6</td>\n      <td>8.649481e+04</td>\n      <td>0</td>\n    </tr>\n    <tr>\n      <th>4</th>\n      <td>DF</td>\n      <td>FGGE</td>\n      <td>2020-05-03</td>\n      <td>2020-05-03 18:46:00</td>\n      <td>1.521656e+05</td>\n      <td>6</td>\n      <td>1.521656e+05</td>\n      <td>0</td>\n    </tr>\n    <tr>\n      <th>...</th>\n      <td>...</td>\n      <td>...</td>\n      <td>...</td>\n      <td>...</td>\n      <td>...</td>\n      <td>...</td>\n      <td>...</td>\n      <td>...</td>\n    </tr>\n    <tr>\n      <th>8982</th>\n      <td>NAC</td>\n      <td>N18H</td>\n      <td>2020-05-04</td>\n      <td>2020-05-04 21:31:00</td>\n      <td>2.093098e+07</td>\n      <td>0</td>\n      <td>2.093098e+07</td>\n      <td>0</td>\n    </tr>\n    <tr>\n      <th>8983</th>\n      <td>NAC</td>\n      <td>JHOJ</td>\n      <td>2020-05-13</td>\n      <td>2020-05-13 16:25:00</td>\n      <td>1.331286e+07</td>\n      <td>2</td>\n      <td>1.331286e+07</td>\n      <td>0</td>\n    </tr>\n    <tr>\n      <th>8984</th>\n      <td>NAC</td>\n      <td>SHOV</td>\n      <td>2020-06-07</td>\n      <td>2020-06-07 15:30:00</td>\n      <td>8.610939e+06</td>\n      <td>6</td>\n      <td>8.610939e+06</td>\n      <td>0</td>\n    </tr>\n    <tr>\n      <th>8985</th>\n      <td>NAC</td>\n      <td>SHOV</td>\n      <td>2020-05-17</td>\n      <td>2020-05-17 15:30:00</td>\n      <td>1.056899e+07</td>\n      <td>6</td>\n      <td>1.056899e+07</td>\n      <td>0</td>\n    </tr>\n    <tr>\n      <th>8986</th>\n      <td>NAC</td>\n      <td>COR3</td>\n      <td>2020-05-15</td>\n      <td>2020-05-15 07:40:00</td>\n      <td>2.958759e+06</td>\n      <td>4</td>\n      <td>2.958759e+06</td>\n      <td>0</td>\n    </tr>\n  </tbody>\n</table>\n<p>8987 rows × 8 columns</p>\n</div>"
     },
     "metadata": {},
     "execution_count": 69
    }
   ],
   "source": [
    "df_res = df_pro.copy()\n",
    "df_res = df_res.rename(columns={\"exhibition_date\": \"date\"})\n",
    "df_res.rename(columns={\"exhibition_date\": \"date\"})\n",
    "df_res['weekday'] = df_res.date.dt.dayofweek\n",
    "df_res['predicted_audience'] = df_res['average_audience']\n",
    "df_res['available_time'] = 0\n",
    "df_res"
   ]
  },
  {
   "cell_type": "code",
   "execution_count": 71,
   "metadata": {
    "tags": [
     "outputPrepend"
    ]
   },
   "outputs": [
    {
     "output_type": "stream",
     "name": "stderr",
     "text": [
      "CopyWarning: \n",
      "A value is trying to be set on a copy of a slice from a DataFrame.\n",
      "Try using .loc[row_indexer,col_indexer] = value instead\n",
      "\n",
      "See the caveats in the documentation: https://pandas.pydata.org/pandas-docs/stable/user_guide/indexing.html#returning-a-view-versus-a-copy\n",
      "  from ipykernel import kernelapp as app\n",
      "C:\\Users\\dldou\\.conda\\envs\\datascience\\lib\\site-packages\\ipykernel_launcher.py:16: SettingWithCopyWarning: \n",
      "A value is trying to be set on a copy of a slice from a DataFrame.\n",
      "Try using .loc[row_indexer,col_indexer] = value instead\n",
      "\n",
      "See the caveats in the documentation: https://pandas.pydata.org/pandas-docs/stable/user_guide/indexing.html#returning-a-view-versus-a-copy\n",
      "  app.launch_new_instance()\n",
      "C:\\Users\\dldou\\.conda\\envs\\datascience\\lib\\site-packages\\ipykernel_launcher.py:17: SettingWithCopyWarning: \n",
      "A value is trying to be set on a copy of a slice from a DataFrame.\n",
      "Try using .loc[row_indexer,col_indexer] = value instead\n",
      "\n",
      "See the caveats in the documentation: https://pandas.pydata.org/pandas-docs/stable/user_guide/indexing.html#returning-a-view-versus-a-copy\n",
      "C:\\Users\\dldou\\.conda\\envs\\datascience\\lib\\site-packages\\ipykernel_launcher.py:15: SettingWithCopyWarning: \n",
      "A value is trying to be set on a copy of a slice from a DataFrame.\n",
      "Try using .loc[row_indexer,col_indexer] = value instead\n",
      "\n",
      "See the caveats in the documentation: https://pandas.pydata.org/pandas-docs/stable/user_guide/indexing.html#returning-a-view-versus-a-copy\n",
      "  from ipykernel import kernelapp as app\n",
      "C:\\Users\\dldou\\.conda\\envs\\datascience\\lib\\site-packages\\ipykernel_launcher.py:16: SettingWithCopyWarning: \n",
      "A value is trying to be set on a copy of a slice from a DataFrame.\n",
      "Try using .loc[row_indexer,col_indexer] = value instead\n",
      "\n",
      "See the caveats in the documentation: https://pandas.pydata.org/pandas-docs/stable/user_guide/indexing.html#returning-a-view-versus-a-copy\n",
      "  app.launch_new_instance()\n",
      "C:\\Users\\dldou\\.conda\\envs\\datascience\\lib\\site-packages\\ipykernel_launcher.py:17: SettingWithCopyWarning: \n",
      "A value is trying to be set on a copy of a slice from a DataFrame.\n",
      "Try using .loc[row_indexer,col_indexer] = value instead\n",
      "\n",
      "See the caveats in the documentation: https://pandas.pydata.org/pandas-docs/stable/user_guide/indexing.html#returning-a-view-versus-a-copy\n",
      "C:\\Users\\dldou\\.conda\\envs\\datascience\\lib\\site-packages\\ipykernel_launcher.py:15: SettingWithCopyWarning: \n",
      "A value is trying to be set on a copy of a slice from a DataFrame.\n",
      "Try using .loc[row_indexer,col_indexer] = value instead\n",
      "\n",
      "See the caveats in the documentation: https://pandas.pydata.org/pandas-docs/stable/user_guide/indexing.html#returning-a-view-versus-a-copy\n",
      "  from ipykernel import kernelapp as app\n",
      "C:\\Users\\dldou\\.conda\\envs\\datascience\\lib\\site-packages\\ipykernel_launcher.py:16: SettingWithCopyWarning: \n",
      "A value is trying to be set on a copy of a slice from a DataFrame.\n",
      "Try using .loc[row_indexer,col_indexer] = value instead\n",
      "\n",
      "See the caveats in the documentation: https://pandas.pydata.org/pandas-docs/stable/user_guide/indexing.html#returning-a-view-versus-a-copy\n",
      "  app.launch_new_instance()\n",
      "C:\\Users\\dldou\\.conda\\envs\\datascience\\lib\\site-packages\\ipykernel_launcher.py:17: SettingWithCopyWarning: \n",
      "A value is trying to be set on a copy of a slice from a DataFrame.\n",
      "Try using .loc[row_indexer,col_indexer] = value instead\n",
      "\n",
      "See the caveats in the documentation: https://pandas.pydata.org/pandas-docs/stable/user_guide/indexing.html#returning-a-view-versus-a-copy\n",
      "C:\\Users\\dldou\\.conda\\envs\\datascience\\lib\\site-packages\\ipykernel_launcher.py:15: SettingWithCopyWarning: \n",
      "A value is trying to be set on a copy of a slice from a DataFrame.\n",
      "Try using .loc[row_indexer,col_indexer] = value instead\n",
      "\n",
      "See the caveats in the documentation: https://pandas.pydata.org/pandas-docs/stable/user_guide/indexing.html#returning-a-view-versus-a-copy\n",
      "  from ipykernel import kernelapp as app\n",
      "C:\\Users\\dldou\\.conda\\envs\\datascience\\lib\\site-packages\\ipykernel_launcher.py:16: SettingWithCopyWarning: \n",
      "A value is trying to be set on a copy of a slice from a DataFrame.\n",
      "Try using .loc[row_indexer,col_indexer] = value instead\n",
      "\n",
      "See the caveats in the documentation: https://pandas.pydata.org/pandas-docs/stable/user_guide/indexing.html#returning-a-view-versus-a-copy\n",
      "  app.launch_new_instance()\n",
      "C:\\Users\\dldou\\.conda\\envs\\datascience\\lib\\site-packages\\ipykernel_launcher.py:17: SettingWithCopyWarning: \n",
      "A value is trying to be set on a copy of a slice from a DataFrame.\n",
      "Try using .loc[row_indexer,col_indexer] = value instead\n",
      "\n",
      "See the caveats in the documentation: https://pandas.pydata.org/pandas-docs/stable/user_guide/indexing.html#returning-a-view-versus-a-copy\n",
      "C:\\Users\\dldou\\.conda\\envs\\datascience\\lib\\site-packages\\ipykernel_launcher.py:15: SettingWithCopyWarning: \n",
      "A value is trying to be set on a copy of a slice from a DataFrame.\n",
      "Try using .loc[row_indexer,col_indexer] = value instead\n",
      "\n",
      "See the caveats in the documentation: https://pandas.pydata.org/pandas-docs/stable/user_guide/indexing.html#returning-a-view-versus-a-copy\n",
      "  from ipykernel import kernelapp as app\n",
      "C:\\Users\\dldou\\.conda\\envs\\datascience\\lib\\site-packages\\ipykernel_launcher.py:16: SettingWithCopyWarning: \n",
      "A value is trying to be set on a copy of a slice from a DataFrame.\n",
      "Try using .loc[row_indexer,col_indexer] = value instead\n",
      "\n",
      "See the caveats in the documentation: https://pandas.pydata.org/pandas-docs/stable/user_guide/indexing.html#returning-a-view-versus-a-copy\n",
      "  app.launch_new_instance()\n",
      "C:\\Users\\dldou\\.conda\\envs\\datascience\\lib\\site-packages\\ipykernel_launcher.py:17: SettingWithCopyWarning: \n",
      "A value is trying to be set on a copy of a slice from a DataFrame.\n",
      "Try using .loc[row_indexer,col_indexer] = value instead\n",
      "\n",
      "See the caveats in the documentation: https://pandas.pydata.org/pandas-docs/stable/user_guide/indexing.html#returning-a-view-versus-a-copy\n",
      "C:\\Users\\dldou\\.conda\\envs\\datascience\\lib\\site-packages\\ipykernel_launcher.py:15: SettingWithCopyWarning: \n",
      "A value is trying to be set on a copy of a slice from a DataFrame.\n",
      "Try using .loc[row_indexer,col_indexer] = value instead\n",
      "\n",
      "See the caveats in the documentation: https://pandas.pydata.org/pandas-docs/stable/user_guide/indexing.html#returning-a-view-versus-a-copy\n",
      "  from ipykernel import kernelapp as app\n",
      "C:\\Users\\dldou\\.conda\\envs\\datascience\\lib\\site-packages\\ipykernel_launcher.py:16: SettingWithCopyWarning: \n",
      "A value is trying to be set on a copy of a slice from a DataFrame.\n",
      "Try using .loc[row_indexer,col_indexer] = value instead\n",
      "\n",
      "See the caveats in the documentation: https://pandas.pydata.org/pandas-docs/stable/user_guide/indexing.html#returning-a-view-versus-a-copy\n",
      "  app.launch_new_instance()\n",
      "C:\\Users\\dldou\\.conda\\envs\\datascience\\lib\\site-packages\\ipykernel_launcher.py:17: SettingWithCopyWarning: \n",
      "A value is trying to be set on a copy of a slice from a DataFrame.\n",
      "Try using .loc[row_indexer,col_indexer] = value instead\n",
      "\n",
      "See the caveats in the documentation: https://pandas.pydata.org/pandas-docs/stable/user_guide/indexing.html#returning-a-view-versus-a-copy\n",
      "C:\\Users\\dldou\\.conda\\envs\\datascience\\lib\\site-packages\\ipykernel_launcher.py:15: SettingWithCopyWarning: \n",
      "A value is trying to be set on a copy of a slice from a DataFrame.\n",
      "Try using .loc[row_indexer,col_indexer] = value instead\n",
      "\n",
      "See the caveats in the documentation: https://pandas.pydata.org/pandas-docs/stable/user_guide/indexing.html#returning-a-view-versus-a-copy\n",
      "  from ipykernel import kernelapp as app\n",
      "C:\\Users\\dldou\\.conda\\envs\\datascience\\lib\\site-packages\\ipykernel_launcher.py:16: SettingWithCopyWarning: \n",
      "A value is trying to be set on a copy of a slice from a DataFrame.\n",
      "Try using .loc[row_indexer,col_indexer] = value instead\n",
      "\n",
      "See the caveats in the documentation: https://pandas.pydata.org/pandas-docs/stable/user_guide/indexing.html#returning-a-view-versus-a-copy\n",
      "  app.launch_new_instance()\n",
      "C:\\Users\\dldou\\.conda\\envs\\datascience\\lib\\site-packages\\ipykernel_launcher.py:17: SettingWithCopyWarning: \n",
      "A value is trying to be set on a copy of a slice from a DataFrame.\n",
      "Try using .loc[row_indexer,col_indexer] = value instead\n",
      "\n",
      "See the caveats in the documentation: https://pandas.pydata.org/pandas-docs/stable/user_guide/indexing.html#returning-a-view-versus-a-copy\n",
      "C:\\Users\\dldou\\.conda\\envs\\datascience\\lib\\site-packages\\ipykernel_launcher.py:15: SettingWithCopyWarning: \n",
      "A value is trying to be set on a copy of a slice from a DataFrame.\n",
      "Try using .loc[row_indexer,col_indexer] = value instead\n",
      "\n",
      "See the caveats in the documentation: https://pandas.pydata.org/pandas-docs/stable/user_guide/indexing.html#returning-a-view-versus-a-copy\n",
      "  from ipykernel import kernelapp as app\n",
      "C:\\Users\\dldou\\.conda\\envs\\datascience\\lib\\site-packages\\ipykernel_launcher.py:16: SettingWithCopyWarning: \n",
      "A value is trying to be set on a copy of a slice from a DataFrame.\n",
      "Try using .loc[row_indexer,col_indexer] = value instead\n",
      "\n",
      "See the caveats in the documentation: https://pandas.pydata.org/pandas-docs/stable/user_guide/indexing.html#returning-a-view-versus-a-copy\n",
      "  app.launch_new_instance()\n",
      "C:\\Users\\dldou\\.conda\\envs\\datascience\\lib\\site-packages\\ipykernel_launcher.py:17: SettingWithCopyWarning: \n",
      "A value is trying to be set on a copy of a slice from a DataFrame.\n",
      "Try using .loc[row_indexer,col_indexer] = value instead\n",
      "\n",
      "See the caveats in the documentation: https://pandas.pydata.org/pandas-docs/stable/user_guide/indexing.html#returning-a-view-versus-a-copy\n",
      "C:\\Users\\dldou\\.conda\\envs\\datascience\\lib\\site-packages\\ipykernel_launcher.py:15: SettingWithCopyWarning: \n",
      "A value is trying to be set on a copy of a slice from a DataFrame.\n",
      "Try using .loc[row_indexer,col_indexer] = value instead\n",
      "\n",
      "See the caveats in the documentation: https://pandas.pydata.org/pandas-docs/stable/user_guide/indexing.html#returning-a-view-versus-a-copy\n",
      "  from ipykernel import kernelapp as app\n",
      "C:\\Users\\dldou\\.conda\\envs\\datascience\\lib\\site-packages\\ipykernel_launcher.py:16: SettingWithCopyWarning: \n",
      "A value is trying to be set on a copy of a slice from a DataFrame.\n",
      "Try using .loc[row_indexer,col_indexer] = value instead\n",
      "\n",
      "See the caveats in the documentation: https://pandas.pydata.org/pandas-docs/stable/user_guide/indexing.html#returning-a-view-versus-a-copy\n",
      "  app.launch_new_instance()\n",
      "C:\\Users\\dldou\\.conda\\envs\\datascience\\lib\\site-packages\\ipykernel_launcher.py:17: SettingWithCopyWarning: \n",
      "A value is trying to be set on a copy of a slice from a DataFrame.\n",
      "Try using .loc[row_indexer,col_indexer] = value instead\n",
      "\n",
      "See the caveats in the documentation: https://pandas.pydata.org/pandas-docs/stable/user_guide/indexing.html#returning-a-view-versus-a-copy\n",
      "C:\\Users\\dldou\\.conda\\envs\\datascience\\lib\\site-packages\\ipykernel_launcher.py:15: SettingWithCopyWarning: \n",
      "A value is trying to be set on a copy of a slice from a DataFrame.\n",
      "Try using .loc[row_indexer,col_indexer] = value instead\n",
      "\n",
      "See the caveats in the documentation: https://pandas.pydata.org/pandas-docs/stable/user_guide/indexing.html#returning-a-view-versus-a-copy\n",
      "  from ipykernel import kernelapp as app\n",
      "C:\\Users\\dldou\\.conda\\envs\\datascience\\lib\\site-packages\\ipykernel_launcher.py:16: SettingWithCopyWarning: \n",
      "A value is trying to be set on a copy of a slice from a DataFrame.\n",
      "Try using .loc[row_indexer,col_indexer] = value instead\n",
      "\n",
      "See the caveats in the documentation: https://pandas.pydata.org/pandas-docs/stable/user_guide/indexing.html#returning-a-view-versus-a-copy\n",
      "  app.launch_new_instance()\n",
      "C:\\Users\\dldou\\.conda\\envs\\datascience\\lib\\site-packages\\ipykernel_launcher.py:17: SettingWithCopyWarning: \n",
      "A value is trying to be set on a copy of a slice from a DataFrame.\n",
      "Try using .loc[row_indexer,col_indexer] = value instead\n",
      "\n",
      "See the caveats in the documentation: https://pandas.pydata.org/pandas-docs/stable/user_guide/indexing.html#returning-a-view-versus-a-copy\n",
      "C:\\Users\\dldou\\.conda\\envs\\datascience\\lib\\site-packages\\ipykernel_launcher.py:15: SettingWithCopyWarning: \n",
      "A value is trying to be set on a copy of a slice from a DataFrame.\n",
      "Try using .loc[row_indexer,col_indexer] = value instead\n",
      "\n",
      "See the caveats in the documentation: https://pandas.pydata.org/pandas-docs/stable/user_guide/indexing.html#returning-a-view-versus-a-copy\n",
      "  from ipykernel import kernelapp as app\n",
      "C:\\Users\\dldou\\.conda\\envs\\datascience\\lib\\site-packages\\ipykernel_launcher.py:16: SettingWithCopyWarning: \n",
      "A value is trying to be set on a copy of a slice from a DataFrame.\n",
      "Try using .loc[row_indexer,col_indexer] = value instead\n",
      "\n",
      "See the caveats in the documentation: https://pandas.pydata.org/pandas-docs/stable/user_guide/indexing.html#returning-a-view-versus-a-copy\n",
      "  app.launch_new_instance()\n",
      "C:\\Users\\dldou\\.conda\\envs\\datascience\\lib\\site-packages\\ipykernel_launcher.py:17: SettingWithCopyWarning: \n",
      "A value is trying to be set on a copy of a slice from a DataFrame.\n",
      "Try using .loc[row_indexer,col_indexer] = value instead\n",
      "\n",
      "See the caveats in the documentation: https://pandas.pydata.org/pandas-docs/stable/user_guide/indexing.html#returning-a-view-versus-a-copy\n",
      "C:\\Users\\dldou\\.conda\\envs\\datascience\\lib\\site-packages\\ipykernel_launcher.py:15: SettingWithCopyWarning: \n",
      "A value is trying to be set on a copy of a slice from a DataFrame.\n",
      "Try using .loc[row_indexer,col_indexer] = value instead\n",
      "\n",
      "See the caveats in the documentation: https://pandas.pydata.org/pandas-docs/stable/user_guide/indexing.html#returning-a-view-versus-a-copy\n",
      "  from ipykernel import kernelapp as app\n",
      "C:\\Users\\dldou\\.conda\\envs\\datascience\\lib\\site-packages\\ipykernel_launcher.py:16: SettingWithCopyWarning: \n",
      "A value is trying to be set on a copy of a slice from a DataFrame.\n",
      "Try using .loc[row_indexer,col_indexer] = value instead\n",
      "\n",
      "See the caveats in the documentation: https://pandas.pydata.org/pandas-docs/stable/user_guide/indexing.html#returning-a-view-versus-a-copy\n",
      "  app.launch_new_instance()\n",
      "C:\\Users\\dldou\\.conda\\envs\\datascience\\lib\\site-packages\\ipykernel_launcher.py:17: SettingWithCopyWarning: \n",
      "A value is trying to be set on a copy of a slice from a DataFrame.\n",
      "Try using .loc[row_indexer,col_indexer] = value instead\n",
      "\n",
      "See the caveats in the documentation: https://pandas.pydata.org/pandas-docs/stable/user_guide/indexing.html#returning-a-view-versus-a-copy\n",
      "C:\\Users\\dldou\\.conda\\envs\\datascience\\lib\\site-packages\\ipykernel_launcher.py:15: SettingWithCopyWarning: \n",
      "A value is trying to be set on a copy of a slice from a DataFrame.\n",
      "Try using .loc[row_indexer,col_indexer] = value instead\n",
      "\n",
      "See the caveats in the documentation: https://pandas.pydata.org/pandas-docs/stable/user_guide/indexing.html#returning-a-view-versus-a-copy\n",
      "  from ipykernel import kernelapp as app\n",
      "C:\\Users\\dldou\\.conda\\envs\\datascience\\lib\\site-packages\\ipykernel_launcher.py:16: SettingWithCopyWarning: \n",
      "A value is trying to be set on a copy of a slice from a DataFrame.\n",
      "Try using .loc[row_indexer,col_indexer] = value instead\n",
      "\n",
      "See the caveats in the documentation: https://pandas.pydata.org/pandas-docs/stable/user_guide/indexing.html#returning-a-view-versus-a-copy\n",
      "  app.launch_new_instance()\n",
      "C:\\Users\\dldou\\.conda\\envs\\datascience\\lib\\site-packages\\ipykernel_launcher.py:17: SettingWithCopyWarning: \n",
      "A value is trying to be set on a copy of a slice from a DataFrame.\n",
      "Try using .loc[row_indexer,col_indexer] = value instead\n",
      "\n",
      "See the caveats in the documentation: https://pandas.pydata.org/pandas-docs/stable/user_guide/indexing.html#returning-a-view-versus-a-copy\n",
      "C:\\Users\\dldou\\.conda\\envs\\datascience\\lib\\site-packages\\ipykernel_launcher.py:15: SettingWithCopyWarning: \n",
      "A value is trying to be set on a copy of a slice from a DataFrame.\n",
      "Try using .loc[row_indexer,col_indexer] = value instead\n",
      "\n",
      "See the caveats in the documentation: https://pandas.pydata.org/pandas-docs/stable/user_guide/indexing.html#returning-a-view-versus-a-copy\n",
      "  from ipykernel import kernelapp as app\n",
      "C:\\Users\\dldou\\.conda\\envs\\datascience\\lib\\site-packages\\ipykernel_launcher.py:16: SettingWithCopyWarning: \n",
      "A value is trying to be set on a copy of a slice from a DataFrame.\n",
      "Try using .loc[row_indexer,col_indexer] = value instead\n",
      "\n",
      "See the caveats in the documentation: https://pandas.pydata.org/pandas-docs/stable/user_guide/indexing.html#returning-a-view-versus-a-copy\n",
      "  app.launch_new_instance()\n",
      "C:\\Users\\dldou\\.conda\\envs\\datascience\\lib\\site-packages\\ipykernel_launcher.py:17: SettingWithCopyWarning: \n",
      "A value is trying to be set on a copy of a slice from a DataFrame.\n",
      "Try using .loc[row_indexer,col_indexer] = value instead\n",
      "\n",
      "See the caveats in the documentation: https://pandas.pydata.org/pandas-docs/stable/user_guide/indexing.html#returning-a-view-versus-a-copy\n",
      "C:\\Users\\dldou\\.conda\\envs\\datascience\\lib\\site-packages\\ipykernel_launcher.py:15: SettingWithCopyWarning: \n",
      "A value is trying to be set on a copy of a slice from a DataFrame.\n",
      "Try using .loc[row_indexer,col_indexer] = value instead\n",
      "\n",
      "See the caveats in the documentation: https://pandas.pydata.org/pandas-docs/stable/user_guide/indexing.html#returning-a-view-versus-a-copy\n",
      "  from ipykernel import kernelapp as app\n",
      "C:\\Users\\dldou\\.conda\\envs\\datascience\\lib\\site-packages\\ipykernel_launcher.py:16: SettingWithCopyWarning: \n",
      "A value is trying to be set on a copy of a slice from a DataFrame.\n",
      "Try using .loc[row_indexer,col_indexer] = value instead\n",
      "\n",
      "See the caveats in the documentation: https://pandas.pydata.org/pandas-docs/stable/user_guide/indexing.html#returning-a-view-versus-a-copy\n",
      "  app.launch_new_instance()\n",
      "C:\\Users\\dldou\\.conda\\envs\\datascience\\lib\\site-packages\\ipykernel_launcher.py:17: SettingWithCopyWarning: \n",
      "A value is trying to be set on a copy of a slice from a DataFrame.\n",
      "Try using .loc[row_indexer,col_indexer] = value instead\n",
      "\n",
      "See the caveats in the documentation: https://pandas.pydata.org/pandas-docs/stable/user_guide/indexing.html#returning-a-view-versus-a-copy\n",
      "C:\\Users\\dldou\\.conda\\envs\\datascience\\lib\\site-packages\\ipykernel_launcher.py:15: SettingWithCopyWarning: \n",
      "A value is trying to be set on a copy of a slice from a DataFrame.\n",
      "Try using .loc[row_indexer,col_indexer] = value instead\n",
      "\n",
      "See the caveats in the documentation: https://pandas.pydata.org/pandas-docs/stable/user_guide/indexing.html#returning-a-view-versus-a-copy\n",
      "  from ipykernel import kernelapp as app\n",
      "C:\\Users\\dldou\\.conda\\envs\\datascience\\lib\\site-packages\\ipykernel_launcher.py:16: SettingWithCopyWarning: \n",
      "A value is trying to be set on a copy of a slice from a DataFrame.\n",
      "Try using .loc[row_indexer,col_indexer] = value instead\n",
      "\n",
      "See the caveats in the documentation: https://pandas.pydata.org/pandas-docs/stable/user_guide/indexing.html#returning-a-view-versus-a-copy\n",
      "  app.launch_new_instance()\n",
      "C:\\Users\\dldou\\.conda\\envs\\datascience\\lib\\site-packages\\ipykernel_launcher.py:17: SettingWithCopyWarning: \n",
      "A value is trying to be set on a copy of a slice from a DataFrame.\n",
      "Try using .loc[row_indexer,col_indexer] = value instead\n",
      "\n",
      "See the caveats in the documentation: https://pandas.pydata.org/pandas-docs/stable/user_guide/indexing.html#returning-a-view-versus-a-copy\n",
      "C:\\Users\\dldou\\.conda\\envs\\datascience\\lib\\site-packages\\ipykernel_launcher.py:15: SettingWithCopyWarning: \n",
      "A value is trying to be set on a copy of a slice from a DataFrame.\n",
      "Try using .loc[row_indexer,col_indexer] = value instead\n",
      "\n",
      "See the caveats in the documentation: https://pandas.pydata.org/pandas-docs/stable/user_guide/indexing.html#returning-a-view-versus-a-copy\n",
      "  from ipykernel import kernelapp as app\n",
      "C:\\Users\\dldou\\.conda\\envs\\datascience\\lib\\site-packages\\ipykernel_launcher.py:16: SettingWithCopyWarning: \n",
      "A value is trying to be set on a copy of a slice from a DataFrame.\n",
      "Try using .loc[row_indexer,col_indexer] = value instead\n",
      "\n",
      "See the caveats in the documentation: https://pandas.pydata.org/pandas-docs/stable/user_guide/indexing.html#returning-a-view-versus-a-copy\n",
      "  app.launch_new_instance()\n",
      "C:\\Users\\dldou\\.conda\\envs\\datascience\\lib\\site-packages\\ipykernel_launcher.py:17: SettingWithCopyWarning: \n",
      "A value is trying to be set on a copy of a slice from a DataFrame.\n",
      "Try using .loc[row_indexer,col_indexer] = value instead\n",
      "\n",
      "See the caveats in the documentation: https://pandas.pydata.org/pandas-docs/stable/user_guide/indexing.html#returning-a-view-versus-a-copy\n"
     ]
    },
    {
     "output_type": "execute_result",
     "data": {
      "text/plain": [
       "count     8987\n",
       "unique       1\n",
       "top       True\n",
       "freq      8987\n",
       "Name: predicted_audience, dtype: object"
      ]
     },
     "metadata": {},
     "execution_count": 71
    }
   ],
   "source": [
    "l_signal = df_res.signal.unique()\n",
    "for v_signal in l_signal:\n",
    "    #print(v_signal)\n",
    "    df_aux = df_res.loc[df_res['signal'] == v_signal]   \n",
    "    l_program_code = df_aux.program_code.unique()\n",
    "    for v_program in l_program_code:\n",
    "        #print(\"     \" + v_signal)\n",
    "        df_aux = df_res.loc[(df_res['signal'] == v_signal)&(df_res['program_code'] == v_program)] \n",
    "        l_weekdays = df_aux.weekday.unique()\n",
    "        for v_day in l_weekdays:\n",
    "            #print(\"     \" + str(v_day))\n",
    "            df_aux = df_res.loc[(df_aux['weekday'] == v_day)&(df_res['signal'] == v_signal)&(df_res['program_code'] == v_program)] \n",
    "            #print(v_signal,v_program,v_day)\n",
    "            df_aux.sort_values(by=['average_audience'])\n",
    "            df_aux['av2'] = np.roll(df_aux['average_audience'],2)\n",
    "            df_aux['av3'] = np.roll(df_aux['average_audience'],3)\n",
    "            df_aux['predicted_audience'] = df_aux.loc[:, ['av2', 'av3']].mean(axis=1)\n",
    "            df_res.loc[df_aux.index] = df_aux"
   ]
  },
  {
   "cell_type": "code",
   "execution_count": 72,
   "metadata": {},
   "outputs": [
    {
     "output_type": "execute_result",
     "data": {
      "text/plain": [
       "     signal program_code       date  program_start_time  average_audience  \\\n",
       "0       SP1         PTV1 2020-06-05 2020-06-05 15:01:00      9.338920e+05   \n",
       "1       SP1         VALE 2020-06-24 2020-06-24 19:36:00      1.835375e+06   \n",
       "2        BH         PTV1 2020-05-23 2020-05-23 15:01:00      2.874812e+05   \n",
       "3        DF         AUTO 2020-05-03 2020-05-03 12:14:00      8.649481e+04   \n",
       "4        DF         FGGE 2020-05-03 2020-05-03 18:46:00      1.521656e+05   \n",
       "...     ...          ...        ...                 ...               ...   \n",
       "8982    NAC         N18H 2020-05-04 2020-05-04 21:31:00      2.093098e+07   \n",
       "8983    NAC         JHOJ 2020-05-13 2020-05-13 16:25:00      1.331286e+07   \n",
       "8984    NAC         SHOV 2020-06-07 2020-06-07 15:30:00      8.610939e+06   \n",
       "8985    NAC         SHOV 2020-05-17 2020-05-17 15:30:00      1.056899e+07   \n",
       "8986    NAC         COR3 2020-05-15 2020-05-15 07:40:00      2.958759e+06   \n",
       "\n",
       "      weekday  predicted_audience  available_time  \n",
       "0           4        1.070565e+06               0  \n",
       "1           2        1.975505e+06               0  \n",
       "2           5        3.371960e+05               0  \n",
       "3           6        1.201617e+05               0  \n",
       "4           6        1.333776e+05               0  \n",
       "...       ...                 ...             ...  \n",
       "8982        0        2.093098e+07               0  \n",
       "8983        2        1.331286e+07               0  \n",
       "8984        6        9.232443e+06               0  \n",
       "8985        6        8.947505e+06               0  \n",
       "8986        4        2.958759e+06               0  \n",
       "\n",
       "[8987 rows x 8 columns]"
      ],
      "text/html": "<div>\n<style scoped>\n    .dataframe tbody tr th:only-of-type {\n        vertical-align: middle;\n    }\n\n    .dataframe tbody tr th {\n        vertical-align: top;\n    }\n\n    .dataframe thead th {\n        text-align: right;\n    }\n</style>\n<table border=\"1\" class=\"dataframe\">\n  <thead>\n    <tr style=\"text-align: right;\">\n      <th></th>\n      <th>signal</th>\n      <th>program_code</th>\n      <th>date</th>\n      <th>program_start_time</th>\n      <th>average_audience</th>\n      <th>weekday</th>\n      <th>predicted_audience</th>\n      <th>available_time</th>\n    </tr>\n  </thead>\n  <tbody>\n    <tr>\n      <th>0</th>\n      <td>SP1</td>\n      <td>PTV1</td>\n      <td>2020-06-05</td>\n      <td>2020-06-05 15:01:00</td>\n      <td>9.338920e+05</td>\n      <td>4</td>\n      <td>1.070565e+06</td>\n      <td>0</td>\n    </tr>\n    <tr>\n      <th>1</th>\n      <td>SP1</td>\n      <td>VALE</td>\n      <td>2020-06-24</td>\n      <td>2020-06-24 19:36:00</td>\n      <td>1.835375e+06</td>\n      <td>2</td>\n      <td>1.975505e+06</td>\n      <td>0</td>\n    </tr>\n    <tr>\n      <th>2</th>\n      <td>BH</td>\n      <td>PTV1</td>\n      <td>2020-05-23</td>\n      <td>2020-05-23 15:01:00</td>\n      <td>2.874812e+05</td>\n      <td>5</td>\n      <td>3.371960e+05</td>\n      <td>0</td>\n    </tr>\n    <tr>\n      <th>3</th>\n      <td>DF</td>\n      <td>AUTO</td>\n      <td>2020-05-03</td>\n      <td>2020-05-03 12:14:00</td>\n      <td>8.649481e+04</td>\n      <td>6</td>\n      <td>1.201617e+05</td>\n      <td>0</td>\n    </tr>\n    <tr>\n      <th>4</th>\n      <td>DF</td>\n      <td>FGGE</td>\n      <td>2020-05-03</td>\n      <td>2020-05-03 18:46:00</td>\n      <td>1.521656e+05</td>\n      <td>6</td>\n      <td>1.333776e+05</td>\n      <td>0</td>\n    </tr>\n    <tr>\n      <th>...</th>\n      <td>...</td>\n      <td>...</td>\n      <td>...</td>\n      <td>...</td>\n      <td>...</td>\n      <td>...</td>\n      <td>...</td>\n      <td>...</td>\n    </tr>\n    <tr>\n      <th>8982</th>\n      <td>NAC</td>\n      <td>N18H</td>\n      <td>2020-05-04</td>\n      <td>2020-05-04 21:31:00</td>\n      <td>2.093098e+07</td>\n      <td>0</td>\n      <td>2.093098e+07</td>\n      <td>0</td>\n    </tr>\n    <tr>\n      <th>8983</th>\n      <td>NAC</td>\n      <td>JHOJ</td>\n      <td>2020-05-13</td>\n      <td>2020-05-13 16:25:00</td>\n      <td>1.331286e+07</td>\n      <td>2</td>\n      <td>1.331286e+07</td>\n      <td>0</td>\n    </tr>\n    <tr>\n      <th>8984</th>\n      <td>NAC</td>\n      <td>SHOV</td>\n      <td>2020-06-07</td>\n      <td>2020-06-07 15:30:00</td>\n      <td>8.610939e+06</td>\n      <td>6</td>\n      <td>9.232443e+06</td>\n      <td>0</td>\n    </tr>\n    <tr>\n      <th>8985</th>\n      <td>NAC</td>\n      <td>SHOV</td>\n      <td>2020-05-17</td>\n      <td>2020-05-17 15:30:00</td>\n      <td>1.056899e+07</td>\n      <td>6</td>\n      <td>8.947505e+06</td>\n      <td>0</td>\n    </tr>\n    <tr>\n      <th>8986</th>\n      <td>NAC</td>\n      <td>COR3</td>\n      <td>2020-05-15</td>\n      <td>2020-05-15 07:40:00</td>\n      <td>2.958759e+06</td>\n      <td>4</td>\n      <td>2.958759e+06</td>\n      <td>0</td>\n    </tr>\n  </tbody>\n</table>\n<p>8987 rows × 8 columns</p>\n</div>"
     },
     "metadata": {},
     "execution_count": 72
    }
   ],
   "source": [
    "df_res"
   ]
  },
  {
   "cell_type": "code",
   "execution_count": 78,
   "metadata": {},
   "outputs": [
    {
     "output_type": "stream",
     "name": "stderr",
     "text": [
      "C:\\Users\\dldou\\.conda\\envs\\datascience\\lib\\site-packages\\ipykernel_launcher.py:1: FutureWarning: Treating datetime data as categorical rather than numeric in `.describe` is deprecated and will be removed in a future version of pandas. Specify `datetime_is_numeric=True` to silence this warning and adopt the future behavior now.\n  \"\"\"Entry point for launching an IPython kernel.\n"
     ]
    },
    {
     "output_type": "execute_result",
     "data": {
      "text/plain": [
       "count                    8987\n",
       "unique                     84\n",
       "top       2020-05-22 00:00:00\n",
       "freq                      132\n",
       "first     2020-04-09 00:00:00\n",
       "last      2020-07-01 00:00:00\n",
       "Name: date, dtype: object"
      ]
     },
     "metadata": {},
     "execution_count": 78
    }
   ],
   "source": [
    "df_res.date.describe()"
   ]
  },
  {
   "cell_type": "code",
   "execution_count": 80,
   "metadata": {},
   "outputs": [
    {
     "output_type": "execute_result",
     "data": {
      "text/plain": [
       "     signal program_code       date  program_start_time  average_audience  \\\n",
       "0       SP1         PTV1 2020-06-05 2020-06-05 15:01:00      9.338920e+05   \n",
       "1       SP1         VALE 2020-06-24 2020-06-24 19:36:00      1.835375e+06   \n",
       "2        BH         PTV1 2020-05-23 2020-05-23 15:01:00      2.874812e+05   \n",
       "3        DF         AUTO 2020-05-03 2020-05-03 12:14:00      8.649481e+04   \n",
       "4        DF         FGGE 2020-05-03 2020-05-03 18:46:00      1.521656e+05   \n",
       "...     ...          ...        ...                 ...               ...   \n",
       "2287     BH         NBRA 2020-08-24                 NaT               NaN   \n",
       "2288     BH         NBRA 2020-08-25                 NaT               NaN   \n",
       "2289     BH         NBRA 2020-08-26                 NaT               NaN   \n",
       "2290     BH         NBRA 2020-08-27                 NaT               NaN   \n",
       "2291     BH         NBRA 2020-08-28                 NaT               NaN   \n",
       "\n",
       "      weekday  predicted_audience  available_time  \n",
       "0         4.0        1.070565e+06               0  \n",
       "1         2.0        1.975505e+06               0  \n",
       "2         5.0        3.371960e+05               0  \n",
       "3         6.0        1.201617e+05               0  \n",
       "4         6.0        1.333776e+05               0  \n",
       "...       ...                 ...             ...  \n",
       "2287      NaN                 NaN             218  \n",
       "2288      NaN                 NaN              66  \n",
       "2289      NaN                 NaN              44  \n",
       "2290      NaN                 NaN             190  \n",
       "2291      NaN                 NaN             202  \n",
       "\n",
       "[11279 rows x 8 columns]"
      ],
      "text/html": "<div>\n<style scoped>\n    .dataframe tbody tr th:only-of-type {\n        vertical-align: middle;\n    }\n\n    .dataframe tbody tr th {\n        vertical-align: top;\n    }\n\n    .dataframe thead th {\n        text-align: right;\n    }\n</style>\n<table border=\"1\" class=\"dataframe\">\n  <thead>\n    <tr style=\"text-align: right;\">\n      <th></th>\n      <th>signal</th>\n      <th>program_code</th>\n      <th>date</th>\n      <th>program_start_time</th>\n      <th>average_audience</th>\n      <th>weekday</th>\n      <th>predicted_audience</th>\n      <th>available_time</th>\n    </tr>\n  </thead>\n  <tbody>\n    <tr>\n      <th>0</th>\n      <td>SP1</td>\n      <td>PTV1</td>\n      <td>2020-06-05</td>\n      <td>2020-06-05 15:01:00</td>\n      <td>9.338920e+05</td>\n      <td>4.0</td>\n      <td>1.070565e+06</td>\n      <td>0</td>\n    </tr>\n    <tr>\n      <th>1</th>\n      <td>SP1</td>\n      <td>VALE</td>\n      <td>2020-06-24</td>\n      <td>2020-06-24 19:36:00</td>\n      <td>1.835375e+06</td>\n      <td>2.0</td>\n      <td>1.975505e+06</td>\n      <td>0</td>\n    </tr>\n    <tr>\n      <th>2</th>\n      <td>BH</td>\n      <td>PTV1</td>\n      <td>2020-05-23</td>\n      <td>2020-05-23 15:01:00</td>\n      <td>2.874812e+05</td>\n      <td>5.0</td>\n      <td>3.371960e+05</td>\n      <td>0</td>\n    </tr>\n    <tr>\n      <th>3</th>\n      <td>DF</td>\n      <td>AUTO</td>\n      <td>2020-05-03</td>\n      <td>2020-05-03 12:14:00</td>\n      <td>8.649481e+04</td>\n      <td>6.0</td>\n      <td>1.201617e+05</td>\n      <td>0</td>\n    </tr>\n    <tr>\n      <th>4</th>\n      <td>DF</td>\n      <td>FGGE</td>\n      <td>2020-05-03</td>\n      <td>2020-05-03 18:46:00</td>\n      <td>1.521656e+05</td>\n      <td>6.0</td>\n      <td>1.333776e+05</td>\n      <td>0</td>\n    </tr>\n    <tr>\n      <th>...</th>\n      <td>...</td>\n      <td>...</td>\n      <td>...</td>\n      <td>...</td>\n      <td>...</td>\n      <td>...</td>\n      <td>...</td>\n      <td>...</td>\n    </tr>\n    <tr>\n      <th>2287</th>\n      <td>BH</td>\n      <td>NBRA</td>\n      <td>2020-08-24</td>\n      <td>NaT</td>\n      <td>NaN</td>\n      <td>NaN</td>\n      <td>NaN</td>\n      <td>218</td>\n    </tr>\n    <tr>\n      <th>2288</th>\n      <td>BH</td>\n      <td>NBRA</td>\n      <td>2020-08-25</td>\n      <td>NaT</td>\n      <td>NaN</td>\n      <td>NaN</td>\n      <td>NaN</td>\n      <td>66</td>\n    </tr>\n    <tr>\n      <th>2289</th>\n      <td>BH</td>\n      <td>NBRA</td>\n      <td>2020-08-26</td>\n      <td>NaT</td>\n      <td>NaN</td>\n      <td>NaN</td>\n      <td>NaN</td>\n      <td>44</td>\n    </tr>\n    <tr>\n      <th>2290</th>\n      <td>BH</td>\n      <td>NBRA</td>\n      <td>2020-08-27</td>\n      <td>NaT</td>\n      <td>NaN</td>\n      <td>NaN</td>\n      <td>NaN</td>\n      <td>190</td>\n    </tr>\n    <tr>\n      <th>2291</th>\n      <td>BH</td>\n      <td>NBRA</td>\n      <td>2020-08-28</td>\n      <td>NaT</td>\n      <td>NaN</td>\n      <td>NaN</td>\n      <td>NaN</td>\n      <td>202</td>\n    </tr>\n  </tbody>\n</table>\n<p>11279 rows × 8 columns</p>\n</div>"
     },
     "metadata": {},
     "execution_count": 80
    }
   ],
   "source": [
    "df_res = pd.concat([df_res,df_inv])\n",
    "df_res"
   ]
  },
  {
   "cell_type": "code",
   "execution_count": 81,
   "metadata": {},
   "outputs": [
    {
     "output_type": "execute_result",
     "data": {
      "text/plain": [
       "     signal program_code       date  program_start_time  average_audience  \\\n",
       "0       SP1         PTV1 2020-06-05 2020-06-05 15:01:00      9.338920e+05   \n",
       "1       SP1         VALE 2020-06-24 2020-06-24 19:36:00      1.835375e+06   \n",
       "2        BH         PTV1 2020-05-23 2020-05-23 15:01:00      2.874812e+05   \n",
       "3        DF         AUTO 2020-05-03 2020-05-03 12:14:00      8.649481e+04   \n",
       "4        DF         FGGE 2020-05-03 2020-05-03 18:46:00      1.521656e+05   \n",
       "...     ...          ...        ...                 ...               ...   \n",
       "2287     BH         NBRA 2020-08-24                 NaT               NaN   \n",
       "2288     BH         NBRA 2020-08-25                 NaT               NaN   \n",
       "2289     BH         NBRA 2020-08-26                 NaT               NaN   \n",
       "2290     BH         NBRA 2020-08-27                 NaT               NaN   \n",
       "2291     BH         NBRA 2020-08-28                 NaT               NaN   \n",
       "\n",
       "      weekday  predicted_audience  available_time  \n",
       "0           4        1.070565e+06               0  \n",
       "1           2        1.975505e+06               0  \n",
       "2           5        3.371960e+05               0  \n",
       "3           6        1.201617e+05               0  \n",
       "4           6        1.333776e+05               0  \n",
       "...       ...                 ...             ...  \n",
       "2287        0                 NaN             218  \n",
       "2288        1                 NaN              66  \n",
       "2289        2                 NaN              44  \n",
       "2290        3                 NaN             190  \n",
       "2291        4                 NaN             202  \n",
       "\n",
       "[11279 rows x 8 columns]"
      ],
      "text/html": "<div>\n<style scoped>\n    .dataframe tbody tr th:only-of-type {\n        vertical-align: middle;\n    }\n\n    .dataframe tbody tr th {\n        vertical-align: top;\n    }\n\n    .dataframe thead th {\n        text-align: right;\n    }\n</style>\n<table border=\"1\" class=\"dataframe\">\n  <thead>\n    <tr style=\"text-align: right;\">\n      <th></th>\n      <th>signal</th>\n      <th>program_code</th>\n      <th>date</th>\n      <th>program_start_time</th>\n      <th>average_audience</th>\n      <th>weekday</th>\n      <th>predicted_audience</th>\n      <th>available_time</th>\n    </tr>\n  </thead>\n  <tbody>\n    <tr>\n      <th>0</th>\n      <td>SP1</td>\n      <td>PTV1</td>\n      <td>2020-06-05</td>\n      <td>2020-06-05 15:01:00</td>\n      <td>9.338920e+05</td>\n      <td>4</td>\n      <td>1.070565e+06</td>\n      <td>0</td>\n    </tr>\n    <tr>\n      <th>1</th>\n      <td>SP1</td>\n      <td>VALE</td>\n      <td>2020-06-24</td>\n      <td>2020-06-24 19:36:00</td>\n      <td>1.835375e+06</td>\n      <td>2</td>\n      <td>1.975505e+06</td>\n      <td>0</td>\n    </tr>\n    <tr>\n      <th>2</th>\n      <td>BH</td>\n      <td>PTV1</td>\n      <td>2020-05-23</td>\n      <td>2020-05-23 15:01:00</td>\n      <td>2.874812e+05</td>\n      <td>5</td>\n      <td>3.371960e+05</td>\n      <td>0</td>\n    </tr>\n    <tr>\n      <th>3</th>\n      <td>DF</td>\n      <td>AUTO</td>\n      <td>2020-05-03</td>\n      <td>2020-05-03 12:14:00</td>\n      <td>8.649481e+04</td>\n      <td>6</td>\n      <td>1.201617e+05</td>\n      <td>0</td>\n    </tr>\n    <tr>\n      <th>4</th>\n      <td>DF</td>\n      <td>FGGE</td>\n      <td>2020-05-03</td>\n      <td>2020-05-03 18:46:00</td>\n      <td>1.521656e+05</td>\n      <td>6</td>\n      <td>1.333776e+05</td>\n      <td>0</td>\n    </tr>\n    <tr>\n      <th>...</th>\n      <td>...</td>\n      <td>...</td>\n      <td>...</td>\n      <td>...</td>\n      <td>...</td>\n      <td>...</td>\n      <td>...</td>\n      <td>...</td>\n    </tr>\n    <tr>\n      <th>2287</th>\n      <td>BH</td>\n      <td>NBRA</td>\n      <td>2020-08-24</td>\n      <td>NaT</td>\n      <td>NaN</td>\n      <td>0</td>\n      <td>NaN</td>\n      <td>218</td>\n    </tr>\n    <tr>\n      <th>2288</th>\n      <td>BH</td>\n      <td>NBRA</td>\n      <td>2020-08-25</td>\n      <td>NaT</td>\n      <td>NaN</td>\n      <td>1</td>\n      <td>NaN</td>\n      <td>66</td>\n    </tr>\n    <tr>\n      <th>2289</th>\n      <td>BH</td>\n      <td>NBRA</td>\n      <td>2020-08-26</td>\n      <td>NaT</td>\n      <td>NaN</td>\n      <td>2</td>\n      <td>NaN</td>\n      <td>44</td>\n    </tr>\n    <tr>\n      <th>2290</th>\n      <td>BH</td>\n      <td>NBRA</td>\n      <td>2020-08-27</td>\n      <td>NaT</td>\n      <td>NaN</td>\n      <td>3</td>\n      <td>NaN</td>\n      <td>190</td>\n    </tr>\n    <tr>\n      <th>2291</th>\n      <td>BH</td>\n      <td>NBRA</td>\n      <td>2020-08-28</td>\n      <td>NaT</td>\n      <td>NaN</td>\n      <td>4</td>\n      <td>NaN</td>\n      <td>202</td>\n    </tr>\n  </tbody>\n</table>\n<p>11279 rows × 8 columns</p>\n</div>"
     },
     "metadata": {},
     "execution_count": 81
    }
   ],
   "source": [
    "df_res['weekday'] = df_res.date.dt.dayofweek\n",
    "df_res"
   ]
  },
  {
   "cell_type": "code",
   "execution_count": 82,
   "metadata": {},
   "outputs": [
    {
     "output_type": "execute_result",
     "data": {
      "text/plain": [
       "     signal program_code       date  weekday  predicted_audience  \\\n",
       "0       SP1         PTV1 2020-06-05        4        1.070565e+06   \n",
       "1       SP1         VALE 2020-06-24        2        1.975505e+06   \n",
       "2        BH         PTV1 2020-05-23        5        3.371960e+05   \n",
       "3        DF         AUTO 2020-05-03        6        1.201617e+05   \n",
       "4        DF         FGGE 2020-05-03        6        1.333776e+05   \n",
       "...     ...          ...        ...      ...                 ...   \n",
       "2287     BH         NBRA 2020-08-24        0                 NaN   \n",
       "2288     BH         NBRA 2020-08-25        1                 NaN   \n",
       "2289     BH         NBRA 2020-08-26        2                 NaN   \n",
       "2290     BH         NBRA 2020-08-27        3                 NaN   \n",
       "2291     BH         NBRA 2020-08-28        4                 NaN   \n",
       "\n",
       "      available_time  \n",
       "0                  0  \n",
       "1                  0  \n",
       "2                  0  \n",
       "3                  0  \n",
       "4                  0  \n",
       "...              ...  \n",
       "2287             218  \n",
       "2288              66  \n",
       "2289              44  \n",
       "2290             190  \n",
       "2291             202  \n",
       "\n",
       "[11279 rows x 6 columns]"
      ],
      "text/html": "<div>\n<style scoped>\n    .dataframe tbody tr th:only-of-type {\n        vertical-align: middle;\n    }\n\n    .dataframe tbody tr th {\n        vertical-align: top;\n    }\n\n    .dataframe thead th {\n        text-align: right;\n    }\n</style>\n<table border=\"1\" class=\"dataframe\">\n  <thead>\n    <tr style=\"text-align: right;\">\n      <th></th>\n      <th>signal</th>\n      <th>program_code</th>\n      <th>date</th>\n      <th>weekday</th>\n      <th>predicted_audience</th>\n      <th>available_time</th>\n    </tr>\n  </thead>\n  <tbody>\n    <tr>\n      <th>0</th>\n      <td>SP1</td>\n      <td>PTV1</td>\n      <td>2020-06-05</td>\n      <td>4</td>\n      <td>1.070565e+06</td>\n      <td>0</td>\n    </tr>\n    <tr>\n      <th>1</th>\n      <td>SP1</td>\n      <td>VALE</td>\n      <td>2020-06-24</td>\n      <td>2</td>\n      <td>1.975505e+06</td>\n      <td>0</td>\n    </tr>\n    <tr>\n      <th>2</th>\n      <td>BH</td>\n      <td>PTV1</td>\n      <td>2020-05-23</td>\n      <td>5</td>\n      <td>3.371960e+05</td>\n      <td>0</td>\n    </tr>\n    <tr>\n      <th>3</th>\n      <td>DF</td>\n      <td>AUTO</td>\n      <td>2020-05-03</td>\n      <td>6</td>\n      <td>1.201617e+05</td>\n      <td>0</td>\n    </tr>\n    <tr>\n      <th>4</th>\n      <td>DF</td>\n      <td>FGGE</td>\n      <td>2020-05-03</td>\n      <td>6</td>\n      <td>1.333776e+05</td>\n      <td>0</td>\n    </tr>\n    <tr>\n      <th>...</th>\n      <td>...</td>\n      <td>...</td>\n      <td>...</td>\n      <td>...</td>\n      <td>...</td>\n      <td>...</td>\n    </tr>\n    <tr>\n      <th>2287</th>\n      <td>BH</td>\n      <td>NBRA</td>\n      <td>2020-08-24</td>\n      <td>0</td>\n      <td>NaN</td>\n      <td>218</td>\n    </tr>\n    <tr>\n      <th>2288</th>\n      <td>BH</td>\n      <td>NBRA</td>\n      <td>2020-08-25</td>\n      <td>1</td>\n      <td>NaN</td>\n      <td>66</td>\n    </tr>\n    <tr>\n      <th>2289</th>\n      <td>BH</td>\n      <td>NBRA</td>\n      <td>2020-08-26</td>\n      <td>2</td>\n      <td>NaN</td>\n      <td>44</td>\n    </tr>\n    <tr>\n      <th>2290</th>\n      <td>BH</td>\n      <td>NBRA</td>\n      <td>2020-08-27</td>\n      <td>3</td>\n      <td>NaN</td>\n      <td>190</td>\n    </tr>\n    <tr>\n      <th>2291</th>\n      <td>BH</td>\n      <td>NBRA</td>\n      <td>2020-08-28</td>\n      <td>4</td>\n      <td>NaN</td>\n      <td>202</td>\n    </tr>\n  </tbody>\n</table>\n<p>11279 rows × 6 columns</p>\n</div>"
     },
     "metadata": {},
     "execution_count": 82
    }
   ],
   "source": [
    "del df_res['program_start_time']\n",
    "del df_res['average_audience']\n",
    "df_res"
   ]
  }
 ]
}