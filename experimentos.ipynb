{
 "metadata": {
  "language_info": {
   "codemirror_mode": {
    "name": "ipython",
    "version": 3
   },
   "file_extension": ".py",
   "mimetype": "text/x-python",
   "name": "python",
   "nbconvert_exporter": "python",
   "pygments_lexer": "ipython3",
   "version": "3.9.1-final"
  },
  "orig_nbformat": 2,
  "kernelspec": {
   "name": "python3",
   "display_name": "Python 3",
   "language": "python"
  }
 },
 "nbformat": 4,
 "nbformat_minor": 2,
 "cells": [
  {
   "cell_type": "code",
   "execution_count": 1,
   "metadata": {},
   "outputs": [],
   "source": [
    "import os\n",
    "import pandas as pd\n",
    "import numpy as np\n",
    "from datetime import datetime"
   ]
  },
  {
   "cell_type": "code",
   "execution_count": 2,
   "metadata": {},
   "outputs": [],
   "source": [
    "os.chdir('C:\\Repos\\DS-Apis-Globo')"
   ]
  },
  {
   "cell_type": "code",
   "execution_count": 3,
   "metadata": {},
   "outputs": [],
   "source": [
    "file_inv = 'tvaberta_inventory_availability.csv(1).csv'\n",
    "dateparser_inv = lambda x: datetime.strptime(x, '%d/%m/%Y')\n",
    "sep_inv = ';'\n",
    "parsedates_inv = ['date']"
   ]
  },
  {
   "cell_type": "code",
   "execution_count": 4,
   "metadata": {},
   "outputs": [
    {
     "output_type": "execute_result",
     "data": {
      "text/plain": [
       "  signal program_code       date  available_time\n",
       "0    SP1         HUCK 2020-07-25              10\n",
       "1    SP1         HUCK 2020-08-01             300\n",
       "2    SP1         HUCK 2020-08-08             118\n",
       "3    SP1         HUCK 2020-08-15             106\n",
       "4    SP1         HUCK 2020-08-22               6"
      ],
      "text/html": "<div>\n<style scoped>\n    .dataframe tbody tr th:only-of-type {\n        vertical-align: middle;\n    }\n\n    .dataframe tbody tr th {\n        vertical-align: top;\n    }\n\n    .dataframe thead th {\n        text-align: right;\n    }\n</style>\n<table border=\"1\" class=\"dataframe\">\n  <thead>\n    <tr style=\"text-align: right;\">\n      <th></th>\n      <th>signal</th>\n      <th>program_code</th>\n      <th>date</th>\n      <th>available_time</th>\n    </tr>\n  </thead>\n  <tbody>\n    <tr>\n      <th>0</th>\n      <td>SP1</td>\n      <td>HUCK</td>\n      <td>2020-07-25</td>\n      <td>10</td>\n    </tr>\n    <tr>\n      <th>1</th>\n      <td>SP1</td>\n      <td>HUCK</td>\n      <td>2020-08-01</td>\n      <td>300</td>\n    </tr>\n    <tr>\n      <th>2</th>\n      <td>SP1</td>\n      <td>HUCK</td>\n      <td>2020-08-08</td>\n      <td>118</td>\n    </tr>\n    <tr>\n      <th>3</th>\n      <td>SP1</td>\n      <td>HUCK</td>\n      <td>2020-08-15</td>\n      <td>106</td>\n    </tr>\n    <tr>\n      <th>4</th>\n      <td>SP1</td>\n      <td>HUCK</td>\n      <td>2020-08-22</td>\n      <td>6</td>\n    </tr>\n  </tbody>\n</table>\n</div>"
     },
     "metadata": {},
     "execution_count": 4
    }
   ],
   "source": [
    "df_inv = pd.read_csv( file_inv,\n",
    "                        sep = sep_inv,\n",
    "                        parse_dates = parsedates_inv, \n",
    "                        date_parser = dateparser_inv)\n",
    "df_inv.head()"
   ]
  },
  {
   "cell_type": "code",
   "execution_count": 14,
   "metadata": {},
   "outputs": [
    {
     "output_type": "stream",
     "name": "stdout",
     "text": [
      "<class 'pandas.core.frame.DataFrame'>\nRangeIndex: 2292 entries, 0 to 2291\nData columns (total 4 columns):\n #   Column          Non-Null Count  Dtype         \n---  ------          --------------  -----         \n 0   signal          2292 non-null   object        \n 1   program_code    2292 non-null   object        \n 2   date            2292 non-null   datetime64[ns]\n 3   available_time  2292 non-null   int64         \ndtypes: datetime64[ns](1), int64(1), object(2)\nmemory usage: 71.8+ KB\n"
     ]
    }
   ],
   "source": [
    "df_inv.info()"
   ]
  },
  {
   "cell_type": "code",
   "execution_count": 18,
   "metadata": {},
   "outputs": [
    {
     "output_type": "execute_result",
     "data": {
      "text/plain": [
       "array(['HUCK', 'CASA', 'JHOJ', 'AUTO', 'ESPO', 'GESP', 'BPRA', 'SCOM',\n",
       "       'HORA', 'FATI', 'GRUD', 'PTV1', 'TARA', 'TMAX', 'JOGA', 'SUCI',\n",
       "       'EMPR', 'SAME', 'MAVO', 'BIAL', 'SERA', 'VALE', 'NBRA'],\n",
       "      dtype=object)"
      ]
     },
     "metadata": {},
     "execution_count": 18
    }
   ],
   "source": [
    "df_inv.program_code.unique()"
   ]
  },
  {
   "cell_type": "code",
   "execution_count": 5,
   "metadata": {},
   "outputs": [],
   "source": [
    "file_pro = 'tvaberta_program_audience(1).csv'\n",
    "dateparser_pro = lambda x: datetime.strptime(x, \"%Y-%m-%dT%H:%M:%S.%fZ\")\n",
    "sep_pro = ','\n",
    "parsedates_pro = ['program_start_time']\n",
    "indexcol_pro = 'program_start_time'"
   ]
  },
  {
   "cell_type": "code",
   "execution_count": 6,
   "metadata": {},
   "outputs": [
    {
     "output_type": "execute_result",
     "data": {
      "text/plain": [
       "  signal program_code exhibition_date  program_start_time  average_audience\n",
       "0    SP1         PTV1      2020-06-05 2020-06-05 15:01:00      9.338920e+05\n",
       "1    SP1         VALE      2020-06-24 2020-06-24 19:36:00      1.835375e+06\n",
       "2     BH         PTV1      2020-05-23 2020-05-23 15:01:00      2.874812e+05\n",
       "3     DF         AUTO      2020-05-03 2020-05-03 12:14:00      8.649481e+04\n",
       "4     DF         FGGE      2020-05-03 2020-05-03 18:46:00      1.521656e+05"
      ],
      "text/html": "<div>\n<style scoped>\n    .dataframe tbody tr th:only-of-type {\n        vertical-align: middle;\n    }\n\n    .dataframe tbody tr th {\n        vertical-align: top;\n    }\n\n    .dataframe thead th {\n        text-align: right;\n    }\n</style>\n<table border=\"1\" class=\"dataframe\">\n  <thead>\n    <tr style=\"text-align: right;\">\n      <th></th>\n      <th>signal</th>\n      <th>program_code</th>\n      <th>exhibition_date</th>\n      <th>program_start_time</th>\n      <th>average_audience</th>\n    </tr>\n  </thead>\n  <tbody>\n    <tr>\n      <th>0</th>\n      <td>SP1</td>\n      <td>PTV1</td>\n      <td>2020-06-05</td>\n      <td>2020-06-05 15:01:00</td>\n      <td>9.338920e+05</td>\n    </tr>\n    <tr>\n      <th>1</th>\n      <td>SP1</td>\n      <td>VALE</td>\n      <td>2020-06-24</td>\n      <td>2020-06-24 19:36:00</td>\n      <td>1.835375e+06</td>\n    </tr>\n    <tr>\n      <th>2</th>\n      <td>BH</td>\n      <td>PTV1</td>\n      <td>2020-05-23</td>\n      <td>2020-05-23 15:01:00</td>\n      <td>2.874812e+05</td>\n    </tr>\n    <tr>\n      <th>3</th>\n      <td>DF</td>\n      <td>AUTO</td>\n      <td>2020-05-03</td>\n      <td>2020-05-03 12:14:00</td>\n      <td>8.649481e+04</td>\n    </tr>\n    <tr>\n      <th>4</th>\n      <td>DF</td>\n      <td>FGGE</td>\n      <td>2020-05-03</td>\n      <td>2020-05-03 18:46:00</td>\n      <td>1.521656e+05</td>\n    </tr>\n  </tbody>\n</table>\n</div>"
     },
     "metadata": {},
     "execution_count": 6
    }
   ],
   "source": [
    "df_pro = pd.read_csv( file_pro,\n",
    "                        sep = sep_pro,\n",
    "                        parse_dates = parsedates_pro, \n",
    "                        date_parser = dateparser_pro)\n",
    "df_pro.head()"
   ]
  },
  {
   "cell_type": "code",
   "execution_count": 15,
   "metadata": {},
   "outputs": [
    {
     "output_type": "stream",
     "name": "stdout",
     "text": [
      "<class 'pandas.core.frame.DataFrame'>\nRangeIndex: 8987 entries, 0 to 8986\nData columns (total 5 columns):\n #   Column              Non-Null Count  Dtype         \n---  ------              --------------  -----         \n 0   signal              8987 non-null   object        \n 1   program_code        8987 non-null   object        \n 2   exhibition_date     8987 non-null   object        \n 3   program_start_time  8987 non-null   datetime64[ns]\n 4   average_audience    8987 non-null   float64       \ndtypes: datetime64[ns](1), float64(1), object(3)\nmemory usage: 351.2+ KB\n"
     ]
    }
   ],
   "source": [
    "df_pro.info()"
   ]
  },
  {
   "cell_type": "code",
   "execution_count": 7,
   "metadata": {},
   "outputs": [],
   "source": [
    "df_res = df_pro.copy()"
   ]
  },
  {
   "cell_type": "code",
   "execution_count": 8,
   "metadata": {},
   "outputs": [],
   "source": [
    "df_res['exhibition_date'] = pd.to_datetime(df_res['exhibition_date'], format='%Y-%m-%d')\n",
    "df_res['weekday'] = df_res['exhibition_date'].dt.dayofweek"
   ]
  },
  {
   "cell_type": "code",
   "execution_count": 19,
   "metadata": {},
   "outputs": [
    {
     "output_type": "execute_result",
     "data": {
      "text/plain": [
       "     signal program_code exhibition_date  program_start_time  \\\n",
       "0       SP1         PTV1      2020-06-05 2020-06-05 15:01:00   \n",
       "1       SP1         VALE      2020-06-24 2020-06-24 19:36:00   \n",
       "2        BH         PTV1      2020-05-23 2020-05-23 15:01:00   \n",
       "3        DF         AUTO      2020-05-03 2020-05-03 12:14:00   \n",
       "4        DF         FGGE      2020-05-03 2020-05-03 18:46:00   \n",
       "...     ...          ...             ...                 ...   \n",
       "8982    NAC         N18H      2020-05-04 2020-05-04 21:31:00   \n",
       "8983    NAC         JHOJ      2020-05-13 2020-05-13 16:25:00   \n",
       "8984    NAC         SHOV      2020-06-07 2020-06-07 15:30:00   \n",
       "8985    NAC         SHOV      2020-05-17 2020-05-17 15:30:00   \n",
       "8986    NAC         COR3      2020-05-15 2020-05-15 07:40:00   \n",
       "\n",
       "      average_audience  weekday  predicted_audience  av2  av3  available_time  \n",
       "0         9.338920e+05        4                  -1   -1   -1              -1  \n",
       "1         1.835375e+06        2                  -1   -1   -1              -1  \n",
       "2         2.874812e+05        5                  -1   -1   -1              -1  \n",
       "3         8.649481e+04        6                  -1   -1   -1              -1  \n",
       "4         1.521656e+05        6                  -1   -1   -1              -1  \n",
       "...                ...      ...                 ...  ...  ...             ...  \n",
       "8982      2.093098e+07        0                  -1   -1   -1              -1  \n",
       "8983      1.331286e+07        2                  -1   -1   -1              -1  \n",
       "8984      8.610939e+06        6                  -1   -1   -1              -1  \n",
       "8985      1.056899e+07        6                  -1   -1   -1              -1  \n",
       "8986      2.958759e+06        4                  -1   -1   -1              -1  \n",
       "\n",
       "[8987 rows x 10 columns]"
      ],
      "text/html": "<div>\n<style scoped>\n    .dataframe tbody tr th:only-of-type {\n        vertical-align: middle;\n    }\n\n    .dataframe tbody tr th {\n        vertical-align: top;\n    }\n\n    .dataframe thead th {\n        text-align: right;\n    }\n</style>\n<table border=\"1\" class=\"dataframe\">\n  <thead>\n    <tr style=\"text-align: right;\">\n      <th></th>\n      <th>signal</th>\n      <th>program_code</th>\n      <th>exhibition_date</th>\n      <th>program_start_time</th>\n      <th>average_audience</th>\n      <th>weekday</th>\n      <th>predicted_audience</th>\n      <th>av2</th>\n      <th>av3</th>\n      <th>available_time</th>\n    </tr>\n  </thead>\n  <tbody>\n    <tr>\n      <th>0</th>\n      <td>SP1</td>\n      <td>PTV1</td>\n      <td>2020-06-05</td>\n      <td>2020-06-05 15:01:00</td>\n      <td>9.338920e+05</td>\n      <td>4</td>\n      <td>-1</td>\n      <td>-1</td>\n      <td>-1</td>\n      <td>-1</td>\n    </tr>\n    <tr>\n      <th>1</th>\n      <td>SP1</td>\n      <td>VALE</td>\n      <td>2020-06-24</td>\n      <td>2020-06-24 19:36:00</td>\n      <td>1.835375e+06</td>\n      <td>2</td>\n      <td>-1</td>\n      <td>-1</td>\n      <td>-1</td>\n      <td>-1</td>\n    </tr>\n    <tr>\n      <th>2</th>\n      <td>BH</td>\n      <td>PTV1</td>\n      <td>2020-05-23</td>\n      <td>2020-05-23 15:01:00</td>\n      <td>2.874812e+05</td>\n      <td>5</td>\n      <td>-1</td>\n      <td>-1</td>\n      <td>-1</td>\n      <td>-1</td>\n    </tr>\n    <tr>\n      <th>3</th>\n      <td>DF</td>\n      <td>AUTO</td>\n      <td>2020-05-03</td>\n      <td>2020-05-03 12:14:00</td>\n      <td>8.649481e+04</td>\n      <td>6</td>\n      <td>-1</td>\n      <td>-1</td>\n      <td>-1</td>\n      <td>-1</td>\n    </tr>\n    <tr>\n      <th>4</th>\n      <td>DF</td>\n      <td>FGGE</td>\n      <td>2020-05-03</td>\n      <td>2020-05-03 18:46:00</td>\n      <td>1.521656e+05</td>\n      <td>6</td>\n      <td>-1</td>\n      <td>-1</td>\n      <td>-1</td>\n      <td>-1</td>\n    </tr>\n    <tr>\n      <th>...</th>\n      <td>...</td>\n      <td>...</td>\n      <td>...</td>\n      <td>...</td>\n      <td>...</td>\n      <td>...</td>\n      <td>...</td>\n      <td>...</td>\n      <td>...</td>\n      <td>...</td>\n    </tr>\n    <tr>\n      <th>8982</th>\n      <td>NAC</td>\n      <td>N18H</td>\n      <td>2020-05-04</td>\n      <td>2020-05-04 21:31:00</td>\n      <td>2.093098e+07</td>\n      <td>0</td>\n      <td>-1</td>\n      <td>-1</td>\n      <td>-1</td>\n      <td>-1</td>\n    </tr>\n    <tr>\n      <th>8983</th>\n      <td>NAC</td>\n      <td>JHOJ</td>\n      <td>2020-05-13</td>\n      <td>2020-05-13 16:25:00</td>\n      <td>1.331286e+07</td>\n      <td>2</td>\n      <td>-1</td>\n      <td>-1</td>\n      <td>-1</td>\n      <td>-1</td>\n    </tr>\n    <tr>\n      <th>8984</th>\n      <td>NAC</td>\n      <td>SHOV</td>\n      <td>2020-06-07</td>\n      <td>2020-06-07 15:30:00</td>\n      <td>8.610939e+06</td>\n      <td>6</td>\n      <td>-1</td>\n      <td>-1</td>\n      <td>-1</td>\n      <td>-1</td>\n    </tr>\n    <tr>\n      <th>8985</th>\n      <td>NAC</td>\n      <td>SHOV</td>\n      <td>2020-05-17</td>\n      <td>2020-05-17 15:30:00</td>\n      <td>1.056899e+07</td>\n      <td>6</td>\n      <td>-1</td>\n      <td>-1</td>\n      <td>-1</td>\n      <td>-1</td>\n    </tr>\n    <tr>\n      <th>8986</th>\n      <td>NAC</td>\n      <td>COR3</td>\n      <td>2020-05-15</td>\n      <td>2020-05-15 07:40:00</td>\n      <td>2.958759e+06</td>\n      <td>4</td>\n      <td>-1</td>\n      <td>-1</td>\n      <td>-1</td>\n      <td>-1</td>\n    </tr>\n  </tbody>\n</table>\n<p>8987 rows × 10 columns</p>\n</div>"
     },
     "metadata": {},
     "execution_count": 19
    }
   ],
   "source": [
    "df_res['predicted_audience'] = -1\n",
    "df_res['av2'] = -1\n",
    "df_res['av3'] = -1\n",
    "df_res['available_time'] = -1\n",
    "df_res"
   ]
  },
  {
   "cell_type": "code",
   "execution_count": 20,
   "metadata": {},
   "outputs": [
    {
     "output_type": "execute_result",
     "data": {
      "text/plain": [
       "array(['PTV1', 'VALE', 'AUTO', 'FGGE', 'COR1', 'BIAL', 'PTV2', 'NBRA',\n",
       "       'JNAS', 'HORA', 'MALH', 'BPRA', 'CORO', 'JNAC', 'FATI', 'N18S',\n",
       "       'SSAB', 'N20H', 'TARA', 'GRUD', 'SHT1', 'JGLO', 'N18H', 'JHOJ',\n",
       "       'SHOV', 'VOIK', 'COR2', 'TEMS', 'REPO', 'N19S', 'CINE', 'ZORR',\n",
       "       'MBOA', 'SSUP', 'BIGB', 'ESPO', 'SAME', 'N19H', 'DFAU', 'MEPR',\n",
       "       'FANT', 'SERA', 'CASA', 'ESJC', 'EMPR', 'DOMA', 'MISA', 'HUCK',\n",
       "       'ANTE', 'CIMA', 'TMAX', 'GLCO', 'N20S', 'ALTA', 'TELA', 'PT2S',\n",
       "       'SUCI', 'CESP', 'TNOB', 'INDD', 'CBIL', 'TECA', 'PREG', 'MEST',\n",
       "       'TECV', 'ESPE', 'SJCE', 'ROLE', 'DC60', 'ESP2', 'CABS', 'COR3',\n",
       "       'SHO5', 'SJCC', '_999', 'FESB', 'INES', 'SJNE', 'ACDA', 'EREG',\n",
       "       'ESAR', 'SJGL', 'PEGD', 'ESJA', 'F1VT', 'ESQV', 'TECN', 'ESDO',\n",
       "       'ESBN', 'CONG', 'SJJA', 'SJMM', 'ESCS', 'ESHA', 'ESJQ', 'DF60',\n",
       "       'PAIX'], dtype=object)"
      ]
     },
     "metadata": {},
     "execution_count": 20
    }
   ],
   "source": [
    "l_program_code = df_res.program_code.unique()\n",
    "l_program_code"
   ]
  },
  {
   "cell_type": "code",
   "execution_count": null,
   "metadata": {},
   "outputs": [],
   "source": [
    "SP1\tHUCK\t2020-07-25"
   ]
  },
  {
   "cell_type": "code",
   "execution_count": 24,
   "metadata": {},
   "outputs": [
    {
     "output_type": "execute_result",
     "data": {
      "text/plain": [
       "  signal program_code       date  available_time\n",
       "0    SP1         HUCK 2020-07-25              10"
      ],
      "text/html": "<div>\n<style scoped>\n    .dataframe tbody tr th:only-of-type {\n        vertical-align: middle;\n    }\n\n    .dataframe tbody tr th {\n        vertical-align: top;\n    }\n\n    .dataframe thead th {\n        text-align: right;\n    }\n</style>\n<table border=\"1\" class=\"dataframe\">\n  <thead>\n    <tr style=\"text-align: right;\">\n      <th></th>\n      <th>signal</th>\n      <th>program_code</th>\n      <th>date</th>\n      <th>available_time</th>\n    </tr>\n  </thead>\n  <tbody>\n    <tr>\n      <th>0</th>\n      <td>SP1</td>\n      <td>HUCK</td>\n      <td>2020-07-25</td>\n      <td>10</td>\n    </tr>\n  </tbody>\n</table>\n</div>"
     },
     "metadata": {},
     "execution_count": 24
    }
   ],
   "source": [
    "df_aux2 = df_inv.loc[(df_inv['signal'] == 'SP1') & (df_inv['program_code'] == 'HUCK') & (df_inv['date'] == '2020-07-25')]\n",
    "df_aux2"
   ]
  },
  {
   "cell_type": "code",
   "execution_count": 12,
   "metadata": {
    "tags": [
     "outputPrepend"
    ]
   },
   "outputs": [
    {
     "output_type": "stream",
     "name": "stdout",
     "text": [
      "[row_indexer,col_indexer] = value instead\n",
      "\n",
      "See the caveats in the documentation: https://pandas.pydata.org/pandas-docs/stable/user_guide/indexing.html#returning-a-view-versus-a-copy\n",
      "  if __name__ == '__main__':\n",
      "C:\\Users\\dldou\\.conda\\envs\\datascience\\lib\\site-packages\\ipykernel_launcher.py:7: SettingWithCopyWarning: \n",
      "A value is trying to be set on a copy of a slice from a DataFrame.\n",
      "Try using .loc[row_indexer,col_indexer] = value instead\n",
      "\n",
      "See the caveats in the documentation: https://pandas.pydata.org/pandas-docs/stable/user_guide/indexing.html#returning-a-view-versus-a-copy\n",
      "  import sys\n",
      "C:\\Users\\dldou\\.conda\\envs\\datascience\\lib\\site-packages\\ipykernel_launcher.py:8: SettingWithCopyWarning: \n",
      "A value is trying to be set on a copy of a slice from a DataFrame.\n",
      "Try using .loc[row_indexer,col_indexer] = value instead\n",
      "\n",
      "See the caveats in the documentation: https://pandas.pydata.org/pandas-docs/stable/user_guide/indexing.html#returning-a-view-versus-a-copy\n",
      "  \n",
      "C:\\Users\\dldou\\.conda\\envs\\datascience\\lib\\site-packages\\ipykernel_launcher.py:9: SettingWithCopyWarning: \n",
      "A value is trying to be set on a copy of a slice from a DataFrame.\n",
      "Try using .loc[row_indexer,col_indexer] = value instead\n",
      "\n",
      "See the caveats in the documentation: https://pandas.pydata.org/pandas-docs/stable/user_guide/indexing.html#returning-a-view-versus-a-copy\n",
      "  if __name__ == '__main__':\n",
      "C:\\Users\\dldou\\.conda\\envs\\datascience\\lib\\site-packages\\ipykernel_launcher.py:7: SettingWithCopyWarning: \n",
      "A value is trying to be set on a copy of a slice from a DataFrame.\n",
      "Try using .loc[row_indexer,col_indexer] = value instead\n",
      "\n",
      "See the caveats in the documentation: https://pandas.pydata.org/pandas-docs/stable/user_guide/indexing.html#returning-a-view-versus-a-copy\n",
      "  import sys\n",
      "C:\\Users\\dldou\\.conda\\envs\\datascience\\lib\\site-packages\\ipykernel_launcher.py:8: SettingWithCopyWarning: \n",
      "A value is trying to be set on a copy of a slice from a DataFrame.\n",
      "Try using .loc[row_indexer,col_indexer] = value instead\n",
      "\n",
      "See the caveats in the documentation: https://pandas.pydata.org/pandas-docs/stable/user_guide/indexing.html#returning-a-view-versus-a-copy\n",
      "  \n",
      "C:\\Users\\dldou\\.conda\\envs\\datascience\\lib\\site-packages\\ipykernel_launcher.py:9: SettingWithCopyWarning: \n",
      "A value is trying to be set on a copy of a slice from a DataFrame.\n",
      "Try using .loc[row_indexer,col_indexer] = value instead\n",
      "\n",
      "See the caveats in the documentation: https://pandas.pydata.org/pandas-docs/stable/user_guide/indexing.html#returning-a-view-versus-a-copy\n",
      "  if __name__ == '__main__':\n",
      "C:\\Users\\dldou\\.conda\\envs\\datascience\\lib\\site-packages\\ipykernel_launcher.py:7: SettingWithCopyWarning: \n",
      "A value is trying to be set on a copy of a slice from a DataFrame.\n",
      "Try using .loc[row_indexer,col_indexer] = value instead\n",
      "\n",
      "See the caveats in the documentation: https://pandas.pydata.org/pandas-docs/stable/user_guide/indexing.html#returning-a-view-versus-a-copy\n",
      "  import sys\n",
      "C:\\Users\\dldou\\.conda\\envs\\datascience\\lib\\site-packages\\ipykernel_launcher.py:8: SettingWithCopyWarning: \n",
      "A value is trying to be set on a copy of a slice from a DataFrame.\n",
      "Try using .loc[row_indexer,col_indexer] = value instead\n",
      "\n",
      "See the caveats in the documentation: https://pandas.pydata.org/pandas-docs/stable/user_guide/indexing.html#returning-a-view-versus-a-copy\n",
      "  \n",
      "C:\\Users\\dldou\\.conda\\envs\\datascience\\lib\\site-packages\\ipykernel_launcher.py:9: SettingWithCopyWarning: \n",
      "A value is trying to be set on a copy of a slice from a DataFrame.\n",
      "Try using .loc[row_indexer,col_indexer] = value instead\n",
      "\n",
      "See the caveats in the documentation: https://pandas.pydata.org/pandas-docs/stable/user_guide/indexing.html#returning-a-view-versus-a-copy\n",
      "  if __name__ == '__main__':\n",
      "C:\\Users\\dldou\\.conda\\envs\\datascience\\lib\\site-packages\\ipykernel_launcher.py:7: SettingWithCopyWarning: \n",
      "A value is trying to be set on a copy of a slice from a DataFrame.\n",
      "Try using .loc[row_indexer,col_indexer] = value instead\n",
      "\n",
      "See the caveats in the documentation: https://pandas.pydata.org/pandas-docs/stable/user_guide/indexing.html#returning-a-view-versus-a-copy\n",
      "  import sys\n",
      "C:\\Users\\dldou\\.conda\\envs\\datascience\\lib\\site-packages\\ipykernel_launcher.py:8: SettingWithCopyWarning: \n",
      "A value is trying to be set on a copy of a slice from a DataFrame.\n",
      "Try using .loc[row_indexer,col_indexer] = value instead\n",
      "\n",
      "See the caveats in the documentation: https://pandas.pydata.org/pandas-docs/stable/user_guide/indexing.html#returning-a-view-versus-a-copy\n",
      "  \n",
      "C:\\Users\\dldou\\.conda\\envs\\datascience\\lib\\site-packages\\ipykernel_launcher.py:9: SettingWithCopyWarning: \n",
      "A value is trying to be set on a copy of a slice from a DataFrame.\n",
      "Try using .loc[row_indexer,col_indexer] = value instead\n",
      "\n",
      "See the caveats in the documentation: https://pandas.pydata.org/pandas-docs/stable/user_guide/indexing.html#returning-a-view-versus-a-copy\n",
      "  if __name__ == '__main__':\n",
      "C:\\Users\\dldou\\.conda\\envs\\datascience\\lib\\site-packages\\ipykernel_launcher.py:7: SettingWithCopyWarning: \n",
      "A value is trying to be set on a copy of a slice from a DataFrame.\n",
      "Try using .loc[row_indexer,col_indexer] = value instead\n",
      "\n",
      "See the caveats in the documentation: https://pandas.pydata.org/pandas-docs/stable/user_guide/indexing.html#returning-a-view-versus-a-copy\n",
      "  import sys\n",
      "C:\\Users\\dldou\\.conda\\envs\\datascience\\lib\\site-packages\\ipykernel_launcher.py:8: SettingWithCopyWarning: \n",
      "A value is trying to be set on a copy of a slice from a DataFrame.\n",
      "Try using .loc[row_indexer,col_indexer] = value instead\n",
      "\n",
      "See the caveats in the documentation: https://pandas.pydata.org/pandas-docs/stable/user_guide/indexing.html#returning-a-view-versus-a-copy\n",
      "  \n",
      "C:\\Users\\dldou\\.conda\\envs\\datascience\\lib\\site-packages\\ipykernel_launcher.py:9: SettingWithCopyWarning: \n",
      "A value is trying to be set on a copy of a slice from a DataFrame.\n",
      "Try using .loc[row_indexer,col_indexer] = value instead\n",
      "\n",
      "See the caveats in the documentation: https://pandas.pydata.org/pandas-docs/stable/user_guide/indexing.html#returning-a-view-versus-a-copy\n",
      "  if __name__ == '__main__':\n",
      "C:\\Users\\dldou\\.conda\\envs\\datascience\\lib\\site-packages\\ipykernel_launcher.py:7: SettingWithCopyWarning: \n",
      "A value is trying to be set on a copy of a slice from a DataFrame.\n",
      "Try using .loc[row_indexer,col_indexer] = value instead\n",
      "\n",
      "See the caveats in the documentation: https://pandas.pydata.org/pandas-docs/stable/user_guide/indexing.html#returning-a-view-versus-a-copy\n",
      "  import sys\n",
      "C:\\Users\\dldou\\.conda\\envs\\datascience\\lib\\site-packages\\ipykernel_launcher.py:8: SettingWithCopyWarning: \n",
      "A value is trying to be set on a copy of a slice from a DataFrame.\n",
      "Try using .loc[row_indexer,col_indexer] = value instead\n",
      "\n",
      "See the caveats in the documentation: https://pandas.pydata.org/pandas-docs/stable/user_guide/indexing.html#returning-a-view-versus-a-copy\n",
      "  \n",
      "C:\\Users\\dldou\\.conda\\envs\\datascience\\lib\\site-packages\\ipykernel_launcher.py:9: SettingWithCopyWarning: \n",
      "A value is trying to be set on a copy of a slice from a DataFrame.\n",
      "Try using .loc[row_indexer,col_indexer] = value instead\n",
      "\n",
      "See the caveats in the documentation: https://pandas.pydata.org/pandas-docs/stable/user_guide/indexing.html#returning-a-view-versus-a-copy\n",
      "  if __name__ == '__main__':\n",
      "FESB 6\n",
      "INES 5\n",
      "SJNE 5\n",
      "ACDA 5\n",
      "EREG 5\n",
      "ESAR 5\n",
      "SJGL 5\n",
      "PEGD 1\n",
      "ESJA 5\n",
      "F1VT 6\n",
      "ESQV 5\n",
      "TECN 5\n",
      "ESDO 5\n",
      "ESBN 5\n",
      "CONG 5\n",
      "SJJA 5\n",
      "SJMM 2\n",
      "ESCS 5\n",
      "ESHA 5\n",
      "ESJQ 5\n",
      "DF60 5\n",
      "PAIX 5\n",
      "C:\\Users\\dldou\\.conda\\envs\\datascience\\lib\\site-packages\\ipykernel_launcher.py:7: SettingWithCopyWarning: \n",
      "A value is trying to be set on a copy of a slice from a DataFrame.\n",
      "Try using .loc[row_indexer,col_indexer] = value instead\n",
      "\n",
      "See the caveats in the documentation: https://pandas.pydata.org/pandas-docs/stable/user_guide/indexing.html#returning-a-view-versus-a-copy\n",
      "  import sys\n",
      "C:\\Users\\dldou\\.conda\\envs\\datascience\\lib\\site-packages\\ipykernel_launcher.py:8: SettingWithCopyWarning: \n",
      "A value is trying to be set on a copy of a slice from a DataFrame.\n",
      "Try using .loc[row_indexer,col_indexer] = value instead\n",
      "\n",
      "See the caveats in the documentation: https://pandas.pydata.org/pandas-docs/stable/user_guide/indexing.html#returning-a-view-versus-a-copy\n",
      "  \n",
      "C:\\Users\\dldou\\.conda\\envs\\datascience\\lib\\site-packages\\ipykernel_launcher.py:9: SettingWithCopyWarning: \n",
      "A value is trying to be set on a copy of a slice from a DataFrame.\n",
      "Try using .loc[row_indexer,col_indexer] = value instead\n",
      "\n",
      "See the caveats in the documentation: https://pandas.pydata.org/pandas-docs/stable/user_guide/indexing.html#returning-a-view-versus-a-copy\n",
      "  if __name__ == '__main__':\n",
      "C:\\Users\\dldou\\.conda\\envs\\datascience\\lib\\site-packages\\ipykernel_launcher.py:7: SettingWithCopyWarning: \n",
      "A value is trying to be set on a copy of a slice from a DataFrame.\n",
      "Try using .loc[row_indexer,col_indexer] = value instead\n",
      "\n",
      "See the caveats in the documentation: https://pandas.pydata.org/pandas-docs/stable/user_guide/indexing.html#returning-a-view-versus-a-copy\n",
      "  import sys\n",
      "C:\\Users\\dldou\\.conda\\envs\\datascience\\lib\\site-packages\\ipykernel_launcher.py:8: SettingWithCopyWarning: \n",
      "A value is trying to be set on a copy of a slice from a DataFrame.\n",
      "Try using .loc[row_indexer,col_indexer] = value instead\n",
      "\n",
      "See the caveats in the documentation: https://pandas.pydata.org/pandas-docs/stable/user_guide/indexing.html#returning-a-view-versus-a-copy\n",
      "  \n",
      "C:\\Users\\dldou\\.conda\\envs\\datascience\\lib\\site-packages\\ipykernel_launcher.py:9: SettingWithCopyWarning: \n",
      "A value is trying to be set on a copy of a slice from a DataFrame.\n",
      "Try using .loc[row_indexer,col_indexer] = value instead\n",
      "\n",
      "See the caveats in the documentation: https://pandas.pydata.org/pandas-docs/stable/user_guide/indexing.html#returning-a-view-versus-a-copy\n",
      "  if __name__ == '__main__':\n",
      "C:\\Users\\dldou\\.conda\\envs\\datascience\\lib\\site-packages\\ipykernel_launcher.py:7: SettingWithCopyWarning: \n",
      "A value is trying to be set on a copy of a slice from a DataFrame.\n",
      "Try using .loc[row_indexer,col_indexer] = value instead\n",
      "\n",
      "See the caveats in the documentation: https://pandas.pydata.org/pandas-docs/stable/user_guide/indexing.html#returning-a-view-versus-a-copy\n",
      "  import sys\n",
      "C:\\Users\\dldou\\.conda\\envs\\datascience\\lib\\site-packages\\ipykernel_launcher.py:8: SettingWithCopyWarning: \n",
      "A value is trying to be set on a copy of a slice from a DataFrame.\n",
      "Try using .loc[row_indexer,col_indexer] = value instead\n",
      "\n",
      "See the caveats in the documentation: https://pandas.pydata.org/pandas-docs/stable/user_guide/indexing.html#returning-a-view-versus-a-copy\n",
      "  \n",
      "C:\\Users\\dldou\\.conda\\envs\\datascience\\lib\\site-packages\\ipykernel_launcher.py:9: SettingWithCopyWarning: \n",
      "A value is trying to be set on a copy of a slice from a DataFrame.\n",
      "Try using .loc[row_indexer,col_indexer] = value instead\n",
      "\n",
      "See the caveats in the documentation: https://pandas.pydata.org/pandas-docs/stable/user_guide/indexing.html#returning-a-view-versus-a-copy\n",
      "  if __name__ == '__main__':\n",
      "C:\\Users\\dldou\\.conda\\envs\\datascience\\lib\\site-packages\\ipykernel_launcher.py:7: SettingWithCopyWarning: \n",
      "A value is trying to be set on a copy of a slice from a DataFrame.\n",
      "Try using .loc[row_indexer,col_indexer] = value instead\n",
      "\n",
      "See the caveats in the documentation: https://pandas.pydata.org/pandas-docs/stable/user_guide/indexing.html#returning-a-view-versus-a-copy\n",
      "  import sys\n",
      "C:\\Users\\dldou\\.conda\\envs\\datascience\\lib\\site-packages\\ipykernel_launcher.py:8: SettingWithCopyWarning: \n",
      "A value is trying to be set on a copy of a slice from a DataFrame.\n",
      "Try using .loc[row_indexer,col_indexer] = value instead\n",
      "\n",
      "See the caveats in the documentation: https://pandas.pydata.org/pandas-docs/stable/user_guide/indexing.html#returning-a-view-versus-a-copy\n",
      "  \n",
      "C:\\Users\\dldou\\.conda\\envs\\datascience\\lib\\site-packages\\ipykernel_launcher.py:9: SettingWithCopyWarning: \n",
      "A value is trying to be set on a copy of a slice from a DataFrame.\n",
      "Try using .loc[row_indexer,col_indexer] = value instead\n",
      "\n",
      "See the caveats in the documentation: https://pandas.pydata.org/pandas-docs/stable/user_guide/indexing.html#returning-a-view-versus-a-copy\n",
      "  if __name__ == '__main__':\n",
      "C:\\Users\\dldou\\.conda\\envs\\datascience\\lib\\site-packages\\ipykernel_launcher.py:7: SettingWithCopyWarning: \n",
      "A value is trying to be set on a copy of a slice from a DataFrame.\n",
      "Try using .loc[row_indexer,col_indexer] = value instead\n",
      "\n",
      "See the caveats in the documentation: https://pandas.pydata.org/pandas-docs/stable/user_guide/indexing.html#returning-a-view-versus-a-copy\n",
      "  import sys\n",
      "C:\\Users\\dldou\\.conda\\envs\\datascience\\lib\\site-packages\\ipykernel_launcher.py:8: SettingWithCopyWarning: \n",
      "A value is trying to be set on a copy of a slice from a DataFrame.\n",
      "Try using .loc[row_indexer,col_indexer] = value instead\n",
      "\n",
      "See the caveats in the documentation: https://pandas.pydata.org/pandas-docs/stable/user_guide/indexing.html#returning-a-view-versus-a-copy\n",
      "  \n",
      "C:\\Users\\dldou\\.conda\\envs\\datascience\\lib\\site-packages\\ipykernel_launcher.py:9: SettingWithCopyWarning: \n",
      "A value is trying to be set on a copy of a slice from a DataFrame.\n",
      "Try using .loc[row_indexer,col_indexer] = value instead\n",
      "\n",
      "See the caveats in the documentation: https://pandas.pydata.org/pandas-docs/stable/user_guide/indexing.html#returning-a-view-versus-a-copy\n",
      "  if __name__ == '__main__':\n",
      "C:\\Users\\dldou\\.conda\\envs\\datascience\\lib\\site-packages\\ipykernel_launcher.py:7: SettingWithCopyWarning: \n",
      "A value is trying to be set on a copy of a slice from a DataFrame.\n",
      "Try using .loc[row_indexer,col_indexer] = value instead\n",
      "\n",
      "See the caveats in the documentation: https://pandas.pydata.org/pandas-docs/stable/user_guide/indexing.html#returning-a-view-versus-a-copy\n",
      "  import sys\n",
      "C:\\Users\\dldou\\.conda\\envs\\datascience\\lib\\site-packages\\ipykernel_launcher.py:8: SettingWithCopyWarning: \n",
      "A value is trying to be set on a copy of a slice from a DataFrame.\n",
      "Try using .loc[row_indexer,col_indexer] = value instead\n",
      "\n",
      "See the caveats in the documentation: https://pandas.pydata.org/pandas-docs/stable/user_guide/indexing.html#returning-a-view-versus-a-copy\n",
      "  \n",
      "C:\\Users\\dldou\\.conda\\envs\\datascience\\lib\\site-packages\\ipykernel_launcher.py:9: SettingWithCopyWarning: \n",
      "A value is trying to be set on a copy of a slice from a DataFrame.\n",
      "Try using .loc[row_indexer,col_indexer] = value instead\n",
      "\n",
      "See the caveats in the documentation: https://pandas.pydata.org/pandas-docs/stable/user_guide/indexing.html#returning-a-view-versus-a-copy\n",
      "  if __name__ == '__main__':\n",
      "C:\\Users\\dldou\\.conda\\envs\\datascience\\lib\\site-packages\\ipykernel_launcher.py:7: SettingWithCopyWarning: \n",
      "A value is trying to be set on a copy of a slice from a DataFrame.\n",
      "Try using .loc[row_indexer,col_indexer] = value instead\n",
      "\n",
      "See the caveats in the documentation: https://pandas.pydata.org/pandas-docs/stable/user_guide/indexing.html#returning-a-view-versus-a-copy\n",
      "  import sys\n",
      "C:\\Users\\dldou\\.conda\\envs\\datascience\\lib\\site-packages\\ipykernel_launcher.py:8: SettingWithCopyWarning: \n",
      "A value is trying to be set on a copy of a slice from a DataFrame.\n",
      "Try using .loc[row_indexer,col_indexer] = value instead\n",
      "\n",
      "See the caveats in the documentation: https://pandas.pydata.org/pandas-docs/stable/user_guide/indexing.html#returning-a-view-versus-a-copy\n",
      "  \n",
      "C:\\Users\\dldou\\.conda\\envs\\datascience\\lib\\site-packages\\ipykernel_launcher.py:9: SettingWithCopyWarning: \n",
      "A value is trying to be set on a copy of a slice from a DataFrame.\n",
      "Try using .loc[row_indexer,col_indexer] = value instead\n",
      "\n",
      "See the caveats in the documentation: https://pandas.pydata.org/pandas-docs/stable/user_guide/indexing.html#returning-a-view-versus-a-copy\n",
      "  if __name__ == '__main__':\n",
      "C:\\Users\\dldou\\.conda\\envs\\datascience\\lib\\site-packages\\ipykernel_launcher.py:7: SettingWithCopyWarning: \n",
      "A value is trying to be set on a copy of a slice from a DataFrame.\n",
      "Try using .loc[row_indexer,col_indexer] = value instead\n",
      "\n",
      "See the caveats in the documentation: https://pandas.pydata.org/pandas-docs/stable/user_guide/indexing.html#returning-a-view-versus-a-copy\n",
      "  import sys\n",
      "C:\\Users\\dldou\\.conda\\envs\\datascience\\lib\\site-packages\\ipykernel_launcher.py:8: SettingWithCopyWarning: \n",
      "A value is trying to be set on a copy of a slice from a DataFrame.\n",
      "Try using .loc[row_indexer,col_indexer] = value instead\n",
      "\n",
      "See the caveats in the documentation: https://pandas.pydata.org/pandas-docs/stable/user_guide/indexing.html#returning-a-view-versus-a-copy\n",
      "  \n",
      "C:\\Users\\dldou\\.conda\\envs\\datascience\\lib\\site-packages\\ipykernel_launcher.py:9: SettingWithCopyWarning: \n",
      "A value is trying to be set on a copy of a slice from a DataFrame.\n",
      "Try using .loc[row_indexer,col_indexer] = value instead\n",
      "\n",
      "See the caveats in the documentation: https://pandas.pydata.org/pandas-docs/stable/user_guide/indexing.html#returning-a-view-versus-a-copy\n",
      "  if __name__ == '__main__':\n",
      "C:\\Users\\dldou\\.conda\\envs\\datascience\\lib\\site-packages\\ipykernel_launcher.py:7: SettingWithCopyWarning: \n",
      "A value is trying to be set on a copy of a slice from a DataFrame.\n",
      "Try using .loc[row_indexer,col_indexer] = value instead\n",
      "\n",
      "See the caveats in the documentation: https://pandas.pydata.org/pandas-docs/stable/user_guide/indexing.html#returning-a-view-versus-a-copy\n",
      "  import sys\n",
      "C:\\Users\\dldou\\.conda\\envs\\datascience\\lib\\site-packages\\ipykernel_launcher.py:8: SettingWithCopyWarning: \n",
      "A value is trying to be set on a copy of a slice from a DataFrame.\n",
      "Try using .loc[row_indexer,col_indexer] = value instead\n",
      "\n",
      "See the caveats in the documentation: https://pandas.pydata.org/pandas-docs/stable/user_guide/indexing.html#returning-a-view-versus-a-copy\n",
      "  \n",
      "C:\\Users\\dldou\\.conda\\envs\\datascience\\lib\\site-packages\\ipykernel_launcher.py:9: SettingWithCopyWarning: \n",
      "A value is trying to be set on a copy of a slice from a DataFrame.\n",
      "Try using .loc[row_indexer,col_indexer] = value instead\n",
      "\n",
      "See the caveats in the documentation: https://pandas.pydata.org/pandas-docs/stable/user_guide/indexing.html#returning-a-view-versus-a-copy\n",
      "  if __name__ == '__main__':\n",
      "C:\\Users\\dldou\\.conda\\envs\\datascience\\lib\\site-packages\\ipykernel_launcher.py:7: SettingWithCopyWarning: \n",
      "A value is trying to be set on a copy of a slice from a DataFrame.\n",
      "Try using .loc[row_indexer,col_indexer] = value instead\n",
      "\n",
      "See the caveats in the documentation: https://pandas.pydata.org/pandas-docs/stable/user_guide/indexing.html#returning-a-view-versus-a-copy\n",
      "  import sys\n",
      "C:\\Users\\dldou\\.conda\\envs\\datascience\\lib\\site-packages\\ipykernel_launcher.py:8: SettingWithCopyWarning: \n",
      "A value is trying to be set on a copy of a slice from a DataFrame.\n",
      "Try using .loc[row_indexer,col_indexer] = value instead\n",
      "\n",
      "See the caveats in the documentation: https://pandas.pydata.org/pandas-docs/stable/user_guide/indexing.html#returning-a-view-versus-a-copy\n",
      "  \n",
      "C:\\Users\\dldou\\.conda\\envs\\datascience\\lib\\site-packages\\ipykernel_launcher.py:9: SettingWithCopyWarning: \n",
      "A value is trying to be set on a copy of a slice from a DataFrame.\n",
      "Try using .loc[row_indexer,col_indexer] = value instead\n",
      "\n",
      "See the caveats in the documentation: https://pandas.pydata.org/pandas-docs/stable/user_guide/indexing.html#returning-a-view-versus-a-copy\n",
      "  if __name__ == '__main__':\n",
      "C:\\Users\\dldou\\.conda\\envs\\datascience\\lib\\site-packages\\ipykernel_launcher.py:7: SettingWithCopyWarning: \n",
      "A value is trying to be set on a copy of a slice from a DataFrame.\n",
      "Try using .loc[row_indexer,col_indexer] = value instead\n",
      "\n",
      "See the caveats in the documentation: https://pandas.pydata.org/pandas-docs/stable/user_guide/indexing.html#returning-a-view-versus-a-copy\n",
      "  import sys\n",
      "C:\\Users\\dldou\\.conda\\envs\\datascience\\lib\\site-packages\\ipykernel_launcher.py:8: SettingWithCopyWarning: \n",
      "A value is trying to be set on a copy of a slice from a DataFrame.\n",
      "Try using .loc[row_indexer,col_indexer] = value instead\n",
      "\n",
      "See the caveats in the documentation: https://pandas.pydata.org/pandas-docs/stable/user_guide/indexing.html#returning-a-view-versus-a-copy\n",
      "  \n",
      "C:\\Users\\dldou\\.conda\\envs\\datascience\\lib\\site-packages\\ipykernel_launcher.py:9: SettingWithCopyWarning: \n",
      "A value is trying to be set on a copy of a slice from a DataFrame.\n",
      "Try using .loc[row_indexer,col_indexer] = value instead\n",
      "\n",
      "See the caveats in the documentation: https://pandas.pydata.org/pandas-docs/stable/user_guide/indexing.html#returning-a-view-versus-a-copy\n",
      "  if __name__ == '__main__':\n"
     ]
    }
   ],
   "source": [
    "l_signal = df_res.signal.unique()\n",
    "for v_signal in l_signal:\n",
    "    df_aux = df_res.loc[df_res['signal'] == v_signal]   \n",
    "    for v_program in l_program_code:\n",
    "        df_aux = df_aux.loc[df_aux['program_code'] == v_program] \n",
    "        l_weekdays = df_aux.weekday.unique()\n",
    "        for v_day in l_weekdays:\n",
    "            df_aux = df_aux.loc[df_aux['weekday'] == v_day] \n",
    "            print(v_signal,v_program,v_day)\n",
    "            df_aux.sort_values(by=['average_audience'])\n",
    "            df_aux['av2'] = df_aux['average_audience'].shift(periods=2, freq=None, axis=0)\n",
    "            df_aux['av3'] = df_aux['average_audience'].shift(periods=3, freq=None, axis=0)\n",
    "            df_aux['predicted_audience'] = df_aux.loc[:, ['av2', 'av3']].mean(axis=1)\n",
    "            df_aux2 = df_inv.loc[(df['column_name'] >= A) & (df['column_name'] <= B)]\n",
    "            df_aux.loc[df_aux.] = \n",
    "            df_res.loc[df_aux.index] = df_aux"
   ]
  },
  {
   "cell_type": "code",
   "execution_count": 13,
   "metadata": {},
   "outputs": [
    {
     "output_type": "execute_result",
     "data": {
      "text/plain": [
       "     signal program_code exhibition_date  program_start_time  \\\n",
       "0       SP1         PTV1      2020-06-05 2020-06-05 15:01:00   \n",
       "1       SP1         VALE      2020-06-24 2020-06-24 19:36:00   \n",
       "2        BH         PTV1      2020-05-23 2020-05-23 15:01:00   \n",
       "3        DF         AUTO      2020-05-03 2020-05-03 12:14:00   \n",
       "4        DF         FGGE      2020-05-03 2020-05-03 18:46:00   \n",
       "...     ...          ...             ...                 ...   \n",
       "8982    NAC         N18H      2020-05-04 2020-05-04 21:31:00   \n",
       "8983    NAC         JHOJ      2020-05-13 2020-05-13 16:25:00   \n",
       "8984    NAC         SHOV      2020-06-07 2020-06-07 15:30:00   \n",
       "8985    NAC         SHOV      2020-05-17 2020-05-17 15:30:00   \n",
       "8986    NAC         COR3      2020-05-15 2020-05-15 07:40:00   \n",
       "\n",
       "      average_audience  weekday  predicted_audience           av2  \\\n",
       "0         9.338920e+05        4                 NaN           NaN   \n",
       "1         1.835375e+06        2                 NaN           NaN   \n",
       "2         2.874812e+05        5                 NaN           NaN   \n",
       "3         8.649481e+04        6                 NaN           NaN   \n",
       "4         1.521656e+05        6                 NaN           NaN   \n",
       "...                ...      ...                 ...           ...   \n",
       "8982      2.093098e+07        0        2.018653e+07  1.947151e+07   \n",
       "8983      1.331286e+07        2        1.318622e+07  1.523243e+07   \n",
       "8984      8.610939e+06        6        9.232443e+06  9.159003e+06   \n",
       "8985      1.056899e+07        6        8.947505e+06  8.736007e+06   \n",
       "8986      2.958759e+06        4        1.999394e+05  6.372051e+04   \n",
       "\n",
       "               av3  \n",
       "0              NaN  \n",
       "1              NaN  \n",
       "2              NaN  \n",
       "3              NaN  \n",
       "4              NaN  \n",
       "...            ...  \n",
       "8982  2.090154e+07  \n",
       "8983  1.114001e+07  \n",
       "8984  9.305882e+06  \n",
       "8985  9.159003e+06  \n",
       "8986  3.361582e+05  \n",
       "\n",
       "[8987 rows x 9 columns]"
      ],
      "text/html": "<div>\n<style scoped>\n    .dataframe tbody tr th:only-of-type {\n        vertical-align: middle;\n    }\n\n    .dataframe tbody tr th {\n        vertical-align: top;\n    }\n\n    .dataframe thead th {\n        text-align: right;\n    }\n</style>\n<table border=\"1\" class=\"dataframe\">\n  <thead>\n    <tr style=\"text-align: right;\">\n      <th></th>\n      <th>signal</th>\n      <th>program_code</th>\n      <th>exhibition_date</th>\n      <th>program_start_time</th>\n      <th>average_audience</th>\n      <th>weekday</th>\n      <th>predicted_audience</th>\n      <th>av2</th>\n      <th>av3</th>\n    </tr>\n  </thead>\n  <tbody>\n    <tr>\n      <th>0</th>\n      <td>SP1</td>\n      <td>PTV1</td>\n      <td>2020-06-05</td>\n      <td>2020-06-05 15:01:00</td>\n      <td>9.338920e+05</td>\n      <td>4</td>\n      <td>NaN</td>\n      <td>NaN</td>\n      <td>NaN</td>\n    </tr>\n    <tr>\n      <th>1</th>\n      <td>SP1</td>\n      <td>VALE</td>\n      <td>2020-06-24</td>\n      <td>2020-06-24 19:36:00</td>\n      <td>1.835375e+06</td>\n      <td>2</td>\n      <td>NaN</td>\n      <td>NaN</td>\n      <td>NaN</td>\n    </tr>\n    <tr>\n      <th>2</th>\n      <td>BH</td>\n      <td>PTV1</td>\n      <td>2020-05-23</td>\n      <td>2020-05-23 15:01:00</td>\n      <td>2.874812e+05</td>\n      <td>5</td>\n      <td>NaN</td>\n      <td>NaN</td>\n      <td>NaN</td>\n    </tr>\n    <tr>\n      <th>3</th>\n      <td>DF</td>\n      <td>AUTO</td>\n      <td>2020-05-03</td>\n      <td>2020-05-03 12:14:00</td>\n      <td>8.649481e+04</td>\n      <td>6</td>\n      <td>NaN</td>\n      <td>NaN</td>\n      <td>NaN</td>\n    </tr>\n    <tr>\n      <th>4</th>\n      <td>DF</td>\n      <td>FGGE</td>\n      <td>2020-05-03</td>\n      <td>2020-05-03 18:46:00</td>\n      <td>1.521656e+05</td>\n      <td>6</td>\n      <td>NaN</td>\n      <td>NaN</td>\n      <td>NaN</td>\n    </tr>\n    <tr>\n      <th>...</th>\n      <td>...</td>\n      <td>...</td>\n      <td>...</td>\n      <td>...</td>\n      <td>...</td>\n      <td>...</td>\n      <td>...</td>\n      <td>...</td>\n      <td>...</td>\n    </tr>\n    <tr>\n      <th>8982</th>\n      <td>NAC</td>\n      <td>N18H</td>\n      <td>2020-05-04</td>\n      <td>2020-05-04 21:31:00</td>\n      <td>2.093098e+07</td>\n      <td>0</td>\n      <td>2.018653e+07</td>\n      <td>1.947151e+07</td>\n      <td>2.090154e+07</td>\n    </tr>\n    <tr>\n      <th>8983</th>\n      <td>NAC</td>\n      <td>JHOJ</td>\n      <td>2020-05-13</td>\n      <td>2020-05-13 16:25:00</td>\n      <td>1.331286e+07</td>\n      <td>2</td>\n      <td>1.318622e+07</td>\n      <td>1.523243e+07</td>\n      <td>1.114001e+07</td>\n    </tr>\n    <tr>\n      <th>8984</th>\n      <td>NAC</td>\n      <td>SHOV</td>\n      <td>2020-06-07</td>\n      <td>2020-06-07 15:30:00</td>\n      <td>8.610939e+06</td>\n      <td>6</td>\n      <td>9.232443e+06</td>\n      <td>9.159003e+06</td>\n      <td>9.305882e+06</td>\n    </tr>\n    <tr>\n      <th>8985</th>\n      <td>NAC</td>\n      <td>SHOV</td>\n      <td>2020-05-17</td>\n      <td>2020-05-17 15:30:00</td>\n      <td>1.056899e+07</td>\n      <td>6</td>\n      <td>8.947505e+06</td>\n      <td>8.736007e+06</td>\n      <td>9.159003e+06</td>\n    </tr>\n    <tr>\n      <th>8986</th>\n      <td>NAC</td>\n      <td>COR3</td>\n      <td>2020-05-15</td>\n      <td>2020-05-15 07:40:00</td>\n      <td>2.958759e+06</td>\n      <td>4</td>\n      <td>1.999394e+05</td>\n      <td>6.372051e+04</td>\n      <td>3.361582e+05</td>\n    </tr>\n  </tbody>\n</table>\n<p>8987 rows × 9 columns</p>\n</div>"
     },
     "metadata": {},
     "execution_count": 13
    }
   ],
   "source": [
    "df_res"
   ]
  },
  {
   "cell_type": "code",
   "execution_count": null,
   "metadata": {},
   "outputs": [],
   "source": []
  }
 ]
}